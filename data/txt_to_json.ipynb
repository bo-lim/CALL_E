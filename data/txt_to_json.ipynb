{
 "cells": [
  {
   "cell_type": "markdown",
   "id": "9c40354e-37e5-426a-97b5-6d38cdf0552e",
   "metadata": {},
   "source": [
    "# txt파일 데이터프레임으로 변환"
   ]
  },
  {
   "cell_type": "code",
   "execution_count": null,
   "id": "390b79a2-a396-46b0-9b0a-6fdeefa40d1c",
   "metadata": {},
   "outputs": [],
   "source": [
    "from datetime import datetime\n",
    "\n",
    "import pandas as pd\n",
    "import numpy as np\n",
    "import csv\n",
    "import re\n",
    "import random\n",
    "import json"
   ]
  },
  {
   "cell_type": "code",
   "execution_count": null,
   "id": "656d8616-b54c-483a-bf7b-669c8e425254",
   "metadata": {},
   "outputs": [],
   "source": [
    "date_sep = '일 ---------------'\n",
    "\n",
    "def remove_special(string):\n",
    "    return re.sub(r\"[^가-힣a-zA-Z0-9]\",\"\", string)\n",
    "\n",
    "def check_am_pm(string):\n",
    "    am_pm = string.split(' ')[0]\n",
    "    hour = int(string.split(' ')[1].split(':')[0])\n",
    "    minute = int(string.split(' ')[1].split(':')[1])\n",
    "    if am_pm == '오전' and hour == 12:\n",
    "        hour = 0\n",
    "    elif am_pm == '오후' and hour != 12:\n",
    "        hour += 12\n",
    "    return format(hour, '02') + ':' + format(minute, '02') + ':' + '00'\n",
    "\n",
    "def make_df(file_path):\n",
    "     with open(file_path, 'r', encoding='UTF-8') as input_file:\n",
    "        person = []\n",
    "        date = []\n",
    "        time = []\n",
    "        context = []\n",
    "        d = ''\n",
    "        for line in input_file:\n",
    "            if line.startswith('---------------'):\n",
    "                d = line.split(' ')\n",
    "                d = d[1][:-1] + '-' + format(int(d[2][:-1]), '02') + '-' + format(int(d[3][:-1]), '02')\n",
    "            elif line.startswith('['):\n",
    "                sp = line.split('] ')\n",
    "                if sp[0][1:] == '방장봇': # '삭제된 메시지입니다.'\n",
    "                    continue\n",
    "                \n",
    "                # context에 ']'가 있는 경우\n",
    "                if len(sp) > 3:\n",
    "                    tmp = '] '.join(sp[2:]).strip()\n",
    "                    # 관계없는 키워드 제외시  이곳과 아래구문에 추가해주시면 됩니다.\n",
    "                    if tmp == '삭제된 메시지입니다.' or '하트인증' in tmp or '/닉네임' in tmp or '/SCD란' in tmp or '친목다과회' in tmp or '토론방' in tmp or '디스코드' in tmp or '신문고' in tmp:\n",
    "                        continue\n",
    "                    else:\n",
    "                        context.append(tmp)\n",
    "                else:\n",
    "                    tmp = sp[2].strip()\n",
    "                    if tmp == '삭제된 메시지입니다.' or '하트인증' in tmp or '/닉네임' in tmp or '/SCD란' in tmp or '친목다과회' in tmp or '토론방' in tmp or '디스코드' in tmp or '신문고' in tmp:\n",
    "                        continue\n",
    "                    else:\n",
    "                        context.append(tmp)\n",
    "                    \n",
    "                    \n",
    "                # person.append(remove_special(sp[0][1:]))\n",
    "                person.append(sp[0][1:])\n",
    "                date.append(d)\n",
    "                time.append(check_am_pm(sp[1][1:]))\n",
    "        df = pd.DataFrame({'person':person, 'date': date, 'time': time, 'context':context})\n",
    "        return df\n",
    "    \n",
    "def context_punc(c):\n",
    "    try:\n",
    "        if c == '이모티콘':\n",
    "            return '#@이모티콘#'\n",
    "        elif c == '사진':\n",
    "            return '#@시스템#사진#'\n",
    "        elif c.startswith('사진') and c.endswith('장') and len(c.split(' ')) == 2:\n",
    "            return '#@시스템#사진#'\n",
    "        elif c == '동영상':\n",
    "            return '#@시스템#동영상#'\n",
    "        else:\n",
    "            return c\n",
    "    except:\n",
    "        return c\n",
    "    \n",
    "def get_attribute(df):\n",
    "    _utteranceID = []\n",
    "    _turnID = []\n",
    "    _participantID = []\n",
    "\n",
    "    _utterance = 0\n",
    "    _turn = 0\n",
    "    _participant = 0\n",
    "    _participant_dict = {}  # 초이스커피:P01\n",
    "\n",
    "    before_participant = \"\"\n",
    "    for idx in df.index:\n",
    "        _utterance += 1\n",
    "        present_participant = df.loc[idx,'person']\n",
    "        if present_participant != before_participant:\n",
    "            _turn += 1\n",
    "            before_participant = present_participant\n",
    "        if present_participant not in _participant_dict.keys():\n",
    "            _participant += 1\n",
    "            _participant_dict[present_participant] = \"P\" + format(_participant, '03')\n",
    "            _participantID.append(\"P\"+format(_participant, '03'))\n",
    "        else:  # present_participant in participant_dict.keys():\n",
    "            _participantID.append(_participant_dict[present_participant])\n",
    "        _utteranceID.append(\"U\"+str(_utterance))\n",
    "        _turnID.append(\"T\"+str(_turn))\n",
    "    \n",
    "    df['utteranceID'] = _utteranceID\n",
    "    df['turnID'] = _turnID\n",
    "    df['participantID'] = _participantID\n",
    "    \n",
    "    return df, _utterance, _turn, _participant\n",
    "\n",
    "def get_last_dialog(df):\n",
    "    \"\"\"\n",
    "    모든 대화들 중 최근시간대의 대화만 추출\n",
    "    \"\"\"\n",
    "    last_idx = 0\n",
    "    for idx in df.index:\n",
    "        try:\n",
    "            date1 = df.loc[idx]['date']\n",
    "            date2 = df.loc[idx+1]['date']\n",
    "            time1 = df.loc[idx]['time']\n",
    "            time2 = df.loc[idx+1]['time']\n",
    "\n",
    "            time1 = datetime.strptime(date1 + ' ' + time1, '%Y-%m-%d %H:%M:%S')\n",
    "            time2 = datetime.strptime(date2 + ' ' + time2, '%Y-%m-%d %H:%M:%S')\n",
    "            time_interval = time2 - time1\n",
    "            if time_interval.seconds/3600 > 2:\n",
    "                last_idx = idx\n",
    "        except:\n",
    "            pass\n",
    "    return df[last_idx:].reset_index()"
   ]
  },
  {
   "cell_type": "code",
   "execution_count": null,
   "id": "059a99d6-5524-48a0-ab9f-8ef748c389d0",
   "metadata": {},
   "outputs": [],
   "source": [
    "# talk_df = make_df('카톡대화파일.txt')\n",
    "talk_df = make_df('KakaoTalk_20220524_0259_07_155_mbti단톡방_group.txt')\n",
    "talk_df"
   ]
  },
  {
   "cell_type": "code",
   "execution_count": null,
   "id": "d9f28448-1fac-4375-97fe-63752192bf12",
   "metadata": {},
   "outputs": [],
   "source": [
    "talk_df['context'] = talk_df['context'].transform(context_punc)\n",
    "talk_df"
   ]
  },
  {
   "cell_type": "code",
   "execution_count": null,
   "id": "f0c4b3c0-dee1-4c3e-90ab-735742da6018",
   "metadata": {},
   "outputs": [],
   "source": [
    "talk_df = get_last_dialog(talk_df)\n",
    "talk_df"
   ]
  },
  {
   "cell_type": "code",
   "execution_count": null,
   "id": "b4a125ad-8ed0-43d4-b5d4-8bf2886764da",
   "metadata": {},
   "outputs": [],
   "source": [
    "\"\"\"\n",
    "아래셀은 주석 풀며 각각 처리\n",
    "\"\"\"\n",
    "\n",
    "# csv로 변환후 local에서 개인정보 처리\n",
    "# talk_df.to_csv('talk.csv', encoding='UTF-8-sig')\n",
    "\n",
    "# 개인정보 처리후 다시 불러와서 작업\n",
    "# talk_df = pd.read_csv('talk.csv')\n",
    "# talk_df"
   ]
  },
  {
   "cell_type": "code",
   "execution_count": null,
   "id": "865b9c49-c7df-476d-8096-ddded15e161a",
   "metadata": {},
   "outputs": [],
   "source": [
    "talk_df, utterance, turn, participant = get_attribute(talk_df)\n",
    "print(f'utterance: {utterance}, turn:{turn}, participant:{participant}')\n",
    "talk_df"
   ]
  },
  {
   "cell_type": "code",
   "execution_count": null,
   "id": "9391ec9e-e151-42c8-bb1d-b1c5f341c9d5",
   "metadata": {
    "tags": []
   },
   "outputs": [],
   "source": [
    "talk_df = talk_df[['utteranceID', 'turnID', 'participantID', 'date', 'time', 'context']]  # 열순서 바꾸기\n",
    "talk_df"
   ]
  },
  {
   "cell_type": "code",
   "execution_count": null,
   "id": "6e9961e0-20b5-4077-bec8-f8e076709526",
   "metadata": {
    "tags": []
   },
   "outputs": [],
   "source": [
    "body = talk_df.to_json(orient = 'records', force_ascii=False)\n",
    "body"
   ]
  },
  {
   "cell_type": "code",
   "execution_count": null,
   "id": "564258b5-a9e2-4f1d-84fc-891a16babaf9",
   "metadata": {
    "tags": []
   },
   "outputs": [],
   "source": [
    "body = json.loads(body)\n",
    "body"
   ]
  },
  {
   "cell_type": "code",
   "execution_count": null,
   "id": "bc62c14e-3a69-42a2-a3f7-a9b3ffc78441",
   "metadata": {},
   "outputs": [],
   "source": [
    "total = {}\n",
    "dialogueInfo = {}\n",
    "dialogueInfo[\"dialogueID\"] = 'mbti'\n",
    "dialogueInfo[\"numberOfParticipants\"] = participant\n",
    "dialogueInfo[\"numberOfUtterances\"] = utterance\n",
    "dialogueInfo[\"numberOfTurns\"] = turn\n",
    "dialogueInfo[\"type\"] = \"일상 대화\"\n",
    "dialogueInfo[\"topic\"] = \"개인 및 관계\"\n",
    "dialogueInfo"
   ]
  },
  {
   "cell_type": "code",
   "execution_count": null,
   "id": "d7399081-c53f-4460-afa7-197af89f0f9f",
   "metadata": {
    "tags": []
   },
   "outputs": [],
   "source": [
    "total['header'] = dialogueInfo\n",
    "total['body'] = body\n",
    "total"
   ]
  },
  {
   "cell_type": "code",
   "execution_count": null,
   "id": "37fb58f8-e5ed-4a25-bce3-c54343e9096e",
   "metadata": {
    "tags": []
   },
   "outputs": [],
   "source": [
    "final_json = {}\n",
    "final_json[\"numberOfItems\"] = 1\n",
    "final_json[\"data\"] = total\n",
    "final_json"
   ]
  },
  {
   "cell_type": "code",
   "execution_count": null,
   "id": "29a24798-d29c-493c-835a-ca5d08f833b0",
   "metadata": {},
   "outputs": [],
   "source": [
    "with open('./output_json.json','w') as f:\n",
    "    json.dump(total, f, ensure_ascii=False, indent=4)"
   ]
  }
 ],
 "metadata": {
  "kernelspec": {
   "display_name": "Python 3 (ipykernel)",
   "language": "python",
   "name": "python3"
  },
  "language_info": {
   "codemirror_mode": {
    "name": "ipython",
    "version": 3
   },
   "file_extension": ".py",
   "mimetype": "text/x-python",
   "name": "python",
   "nbconvert_exporter": "python",
   "pygments_lexer": "ipython3",
   "version": "3.8.5"
  }
 },
 "nbformat": 4,
 "nbformat_minor": 5
}
