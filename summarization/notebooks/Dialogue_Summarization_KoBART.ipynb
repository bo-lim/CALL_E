{
 "cells": [
  {
   "cell_type": "code",
   "execution_count": 1,
   "id": "41735e08-bef9-49f5-acfa-1e64845ca3e8",
   "metadata": {},
   "outputs": [],
   "source": [
    "import torch\n",
    "import numpy as np\n",
    "import datasets\n",
    "\n",
    "from transformers import (\n",
    "    AutoModelForSeq2SeqLM,\n",
    "    AutoTokenizer,\n",
    "    Seq2SeqTrainingArguments,\n",
    "    Seq2SeqTrainer,\n",
    "    DataCollatorForSeq2Seq,\n",
    "    PreTrainedTokenizerFast\n",
    ")\n",
    "\n",
    "import nltk\n",
    "from datetime import datetime\n",
    "\n",
    "from typing import Optional"
   ]
  },
  {
   "cell_type": "code",
   "execution_count": 2,
   "id": "df2ec10c-2ac4-45df-b9c1-37d8f308b8af",
   "metadata": {},
   "outputs": [],
   "source": [
    "class MyTokenizer(PreTrainedTokenizerFast):\n",
    "    def __init__(self,*args, **kwargs):\n",
    "        super().__init__(*args, **kwargs)\n",
    "    \n",
    "    def save_vocabulary(self, save_directory: str, filename_prefix: Optional[str] = None):\n",
    "        return (1,)\n",
    "    "
   ]
  },
  {
   "cell_type": "code",
   "execution_count": 3,
   "id": "a80f11a1-e6db-4695-b58f-13cd92f30995",
   "metadata": {},
   "outputs": [],
   "source": [
    "model_name = 'gogamza/kobart-base-v2'\n",
    "\n",
    "model = AutoModelForSeq2SeqLM.from_pretrained(model_name)\n",
    "\n",
    "tokenizer = MyTokenizer.from_pretrained(model_name, legacy_format=False)"
   ]
  },
  {
   "cell_type": "code",
   "execution_count": 72,
   "id": "b36ed9a5-7708-4187-b3e0-2bb035c6c346",
   "metadata": {},
   "outputs": [],
   "source": [
    "encoder_max_length = 256\n",
    "decoder_max_length = 64"
   ]
  },
  {
   "cell_type": "code",
   "execution_count": 73,
   "id": "c48b1753-c187-4251-97ad-00e4be3ebf73",
   "metadata": {},
   "outputs": [],
   "source": [
    "import os\n",
    "import json\n",
    "import pandas as pd\n",
    "from pandas import json_normalize\n",
    "\n",
    "json_data = []\n",
    "\n",
    "for filename in os.listdir(\"korea_data\"):\n",
    "   with open(os.path.join(\"korea_data\", filename), 'r') as f:\n",
    "       json_data.append(json.load(f))"
   ]
  },
  {
   "cell_type": "code",
   "execution_count": 74,
   "id": "48aa486f-b27c-4b01-8744-f1fc35015998",
   "metadata": {},
   "outputs": [],
   "source": [
    "df = pd.concat([json_normalize(json_data[i]['data']) for i in range(len(json_data))])"
   ]
  },
  {
   "cell_type": "code",
   "execution_count": 75,
   "id": "803a16c7-3941-4b11-9238-fac3513ee955",
   "metadata": {},
   "outputs": [
    {
     "data": {
      "text/plain": [
       "dict_keys(['numberOfItems', 'data'])"
      ]
     },
     "execution_count": 75,
     "metadata": {},
     "output_type": "execute_result"
    }
   ],
   "source": [
    "json_data[0].keys()"
   ]
  },
  {
   "cell_type": "code",
   "execution_count": 76,
   "id": "7e63429d-38d9-4db8-a7b4-baa19c8689d8",
   "metadata": {},
   "outputs": [],
   "source": [
    "del_list = [ 'header.dialogueInfo.numberOfParticipants',\n",
    "       'header.dialogueInfo.numberOfUtterances',\n",
    "       'header.dialogueInfo.numberOfTurns', 'header.dialogueInfo.type',\n",
    "       'header.dialogueInfo.topic', 'header.participantsInfo']"
   ]
  },
  {
   "cell_type": "code",
   "execution_count": 77,
   "id": "cc43b1ce-6bf1-4673-aa57-e65e6aec457f",
   "metadata": {},
   "outputs": [
    {
     "data": {
      "text/plain": [
       "Index(['header.dialogueInfo.dialogueID',\n",
       "       'header.dialogueInfo.numberOfParticipants',\n",
       "       'header.dialogueInfo.numberOfUtterances',\n",
       "       'header.dialogueInfo.numberOfTurns', 'header.dialogueInfo.type',\n",
       "       'header.dialogueInfo.topic', 'header.participantsInfo', 'body.dialogue',\n",
       "       'body.summary'],\n",
       "      dtype='object')"
      ]
     },
     "execution_count": 77,
     "metadata": {},
     "output_type": "execute_result"
    }
   ],
   "source": [
    "df.iloc[0].keys()"
   ]
  },
  {
   "cell_type": "code",
   "execution_count": 78,
   "id": "33c1249c-ffa5-4cf7-9856-6d7689a11bd1",
   "metadata": {},
   "outputs": [],
   "source": [
    "import datasets.arrow_dataset as da"
   ]
  },
  {
   "cell_type": "code",
   "execution_count": 79,
   "id": "830e8f7d-92f0-4d97-b599-2fea76dcb4ff",
   "metadata": {},
   "outputs": [],
   "source": [
    "data = da.Dataset.from_pandas(df)"
   ]
  },
  {
   "cell_type": "code",
   "execution_count": 80,
   "id": "024a6250-7b1e-4482-86c1-f8fd4665a424",
   "metadata": {},
   "outputs": [],
   "source": [
    "change_df = df.drop(del_list, axis=1)"
   ]
  },
  {
   "cell_type": "code",
   "execution_count": 81,
   "id": "a71a4cb0-73da-4ce0-8c16-50226f0fcc0c",
   "metadata": {},
   "outputs": [],
   "source": [
    "change_df.columns=[\"id\",  \"dialogue\", \"summary\"]"
   ]
  },
  {
   "cell_type": "code",
   "execution_count": 82,
   "id": "c1bf5310-5b9f-4d28-9e10-18a93a314fa6",
   "metadata": {},
   "outputs": [
    {
     "data": {
      "text/plain": [
       "{'__index_level_0__': 0,\n",
       " 'dialogue': 'P01: 수유로오셈^^\\r\\nP02: 지금?\\r\\nP02: 지금가도대?\\r\\nP01: 지금이겠냐?\\r\\nP01: 되겠냐?\\r\\nP01: 집 데려다주냐?\\r\\nP02: 왜안댐?\\r\\nP02: ㅋㅋㅋㅋ\\r\\nP02: 너가 나데려다줘야지\\r\\nP02: 내가 수유가는데',\n",
       " 'summary': '지금 수유에 갈 테니 집에 데려다 달라고 한다.'}"
      ]
     },
     "execution_count": 82,
     "metadata": {},
     "output_type": "execute_result"
    }
   ],
   "source": [
    "dataset[0]"
   ]
  },
  {
   "cell_type": "code",
   "execution_count": 83,
   "id": "49004049-2f92-41df-9219-abee0d80af88",
   "metadata": {},
   "outputs": [
    {
     "data": {
      "text/plain": [
       "35004"
      ]
     },
     "execution_count": 83,
     "metadata": {},
     "output_type": "execute_result"
    }
   ],
   "source": [
    "len(dataset)"
   ]
  },
  {
   "cell_type": "code",
   "execution_count": 84,
   "id": "93c385df-784a-47fb-9f3a-c38ae77d1e6f",
   "metadata": {},
   "outputs": [
    {
     "data": {
      "text/plain": [
       "35004"
      ]
     },
     "execution_count": 84,
     "metadata": {},
     "output_type": "execute_result"
    }
   ],
   "source": [
    "len(change_df)"
   ]
  },
  {
   "cell_type": "code",
   "execution_count": 85,
   "id": "066b4ab0-d00c-4370-9b1f-798094a6ec73",
   "metadata": {
    "tags": []
   },
   "outputs": [
    {
     "data": {
      "text/html": [
       "<div>\n",
       "<style scoped>\n",
       "    .dataframe tbody tr th:only-of-type {\n",
       "        vertical-align: middle;\n",
       "    }\n",
       "\n",
       "    .dataframe tbody tr th {\n",
       "        vertical-align: top;\n",
       "    }\n",
       "\n",
       "    .dataframe thead th {\n",
       "        text-align: right;\n",
       "    }\n",
       "</style>\n",
       "<table border=\"1\" class=\"dataframe\">\n",
       "  <thead>\n",
       "    <tr style=\"text-align: right;\">\n",
       "      <th></th>\n",
       "      <th>id</th>\n",
       "      <th>dialogue</th>\n",
       "      <th>summary</th>\n",
       "    </tr>\n",
       "  </thead>\n",
       "  <tbody>\n",
       "    <tr>\n",
       "      <th>0</th>\n",
       "      <td>71e6e6d6-b33d-530a-b930-f5f30a5c5b2b</td>\n",
       "      <td>[{'utteranceID': 'U1', 'turnID': 'T1', 'partic...</td>\n",
       "      <td>지금 수유에 갈 테니 집에 데려다 달라고 한다.</td>\n",
       "    </tr>\n",
       "    <tr>\n",
       "      <th>1</th>\n",
       "      <td>9370a6e1-36e8-567c-bad2-1ffd4ffe88b7</td>\n",
       "      <td>[{'utteranceID': 'U1', 'turnID': 'T1', 'partic...</td>\n",
       "      <td>2박 3일 정도 쉬는 날을 몰아서 제주도에 갔다 오기로 했다.</td>\n",
       "    </tr>\n",
       "    <tr>\n",
       "      <th>2</th>\n",
       "      <td>0a5a7dff-e535-53a9-988b-d607b82dbb62</td>\n",
       "      <td>[{'utteranceID': 'U1', 'turnID': 'T1', 'partic...</td>\n",
       "      <td>메가박스 매표소에서 2시 45분에 만나기로 약속했다.</td>\n",
       "    </tr>\n",
       "    <tr>\n",
       "      <th>3</th>\n",
       "      <td>5d1e0030-9237-5403-bf23-dfe88c7c0947</td>\n",
       "      <td>[{'utteranceID': 'U1', 'turnID': 'T1', 'partic...</td>\n",
       "      <td>내일 상황을 봐서 정하자고 카페를 가서 힐링해야 한다고 한다.</td>\n",
       "    </tr>\n",
       "    <tr>\n",
       "      <th>4</th>\n",
       "      <td>23b693b7-9326-5ed0-b3d1-a16dfc6bc001</td>\n",
       "      <td>[{'utteranceID': 'U1', 'turnID': 'T1', 'partic...</td>\n",
       "      <td>모레 김장 김치와 수육을 먹을 테니 집으로 오라고 한다.</td>\n",
       "    </tr>\n",
       "    <tr>\n",
       "      <th>...</th>\n",
       "      <td>...</td>\n",
       "      <td>...</td>\n",
       "      <td>...</td>\n",
       "    </tr>\n",
       "    <tr>\n",
       "      <th>1635</th>\n",
       "      <td>0c1b7107-d6fd-5c36-a27f-25b3a575c174</td>\n",
       "      <td>[{'utteranceID': 'U1', 'turnID': 'T1', 'partic...</td>\n",
       "      <td>유명한 회화 영어학원이 생각이 모자라고 행동이 어리석다.</td>\n",
       "    </tr>\n",
       "    <tr>\n",
       "      <th>1636</th>\n",
       "      <td>ec655c80-1e69-518d-9b53-5c5fc3f34a24</td>\n",
       "      <td>[{'utteranceID': 'U1', 'turnID': 'T1', 'partic...</td>\n",
       "      <td>수학 문제를 푸는데 문제가 이상해서 답이 다르게 나온다고 한다.</td>\n",
       "    </tr>\n",
       "    <tr>\n",
       "      <th>1637</th>\n",
       "      <td>cebecc9b-fb3f-5aab-9476-de0dcd448ef1</td>\n",
       "      <td>[{'utteranceID': 'U1', 'turnID': 'T1', 'partic...</td>\n",
       "      <td>수요일에 시험 끝나고 도서관에 가서 공부를 하자고 하니 도서관은 숨이 안 쉬어져서 ...</td>\n",
       "    </tr>\n",
       "    <tr>\n",
       "      <th>1638</th>\n",
       "      <td>d98d7690-24ba-5dfa-b57d-7d79cad81749</td>\n",
       "      <td>[{'utteranceID': 'U1', 'turnID': 'T1', 'partic...</td>\n",
       "      <td>열심히 하고는 있지만 공부할 시간이 부족해 괴로워하고 있다.</td>\n",
       "    </tr>\n",
       "    <tr>\n",
       "      <th>1639</th>\n",
       "      <td>8ccfa29b-14db-5e1b-b7d2-93f2b96d1b7c</td>\n",
       "      <td>[{'utteranceID': 'U1', 'turnID': 'T1', 'partic...</td>\n",
       "      <td>시험 점수를 알고 싶어 한다.</td>\n",
       "    </tr>\n",
       "  </tbody>\n",
       "</table>\n",
       "<p>35004 rows × 3 columns</p>\n",
       "</div>"
      ],
      "text/plain": [
       "                                        id  \\\n",
       "0     71e6e6d6-b33d-530a-b930-f5f30a5c5b2b   \n",
       "1     9370a6e1-36e8-567c-bad2-1ffd4ffe88b7   \n",
       "2     0a5a7dff-e535-53a9-988b-d607b82dbb62   \n",
       "3     5d1e0030-9237-5403-bf23-dfe88c7c0947   \n",
       "4     23b693b7-9326-5ed0-b3d1-a16dfc6bc001   \n",
       "...                                    ...   \n",
       "1635  0c1b7107-d6fd-5c36-a27f-25b3a575c174   \n",
       "1636  ec655c80-1e69-518d-9b53-5c5fc3f34a24   \n",
       "1637  cebecc9b-fb3f-5aab-9476-de0dcd448ef1   \n",
       "1638  d98d7690-24ba-5dfa-b57d-7d79cad81749   \n",
       "1639  8ccfa29b-14db-5e1b-b7d2-93f2b96d1b7c   \n",
       "\n",
       "                                               dialogue  \\\n",
       "0     [{'utteranceID': 'U1', 'turnID': 'T1', 'partic...   \n",
       "1     [{'utteranceID': 'U1', 'turnID': 'T1', 'partic...   \n",
       "2     [{'utteranceID': 'U1', 'turnID': 'T1', 'partic...   \n",
       "3     [{'utteranceID': 'U1', 'turnID': 'T1', 'partic...   \n",
       "4     [{'utteranceID': 'U1', 'turnID': 'T1', 'partic...   \n",
       "...                                                 ...   \n",
       "1635  [{'utteranceID': 'U1', 'turnID': 'T1', 'partic...   \n",
       "1636  [{'utteranceID': 'U1', 'turnID': 'T1', 'partic...   \n",
       "1637  [{'utteranceID': 'U1', 'turnID': 'T1', 'partic...   \n",
       "1638  [{'utteranceID': 'U1', 'turnID': 'T1', 'partic...   \n",
       "1639  [{'utteranceID': 'U1', 'turnID': 'T1', 'partic...   \n",
       "\n",
       "                                                summary  \n",
       "0                            지금 수유에 갈 테니 집에 데려다 달라고 한다.  \n",
       "1                    2박 3일 정도 쉬는 날을 몰아서 제주도에 갔다 오기로 했다.  \n",
       "2                         메가박스 매표소에서 2시 45분에 만나기로 약속했다.  \n",
       "3                    내일 상황을 봐서 정하자고 카페를 가서 힐링해야 한다고 한다.  \n",
       "4                       모레 김장 김치와 수육을 먹을 테니 집으로 오라고 한다.  \n",
       "...                                                 ...  \n",
       "1635                    유명한 회화 영어학원이 생각이 모자라고 행동이 어리석다.  \n",
       "1636                수학 문제를 푸는데 문제가 이상해서 답이 다르게 나온다고 한다.  \n",
       "1637  수요일에 시험 끝나고 도서관에 가서 공부를 하자고 하니 도서관은 숨이 안 쉬어져서 ...  \n",
       "1638                  열심히 하고는 있지만 공부할 시간이 부족해 괴로워하고 있다.  \n",
       "1639                                   시험 점수를 알고 싶어 한다.  \n",
       "\n",
       "[35004 rows x 3 columns]"
      ]
     },
     "execution_count": 85,
     "metadata": {},
     "output_type": "execute_result"
    }
   ],
   "source": [
    "change_df"
   ]
  },
  {
   "cell_type": "code",
   "execution_count": 86,
   "id": "db41af5c-dccc-4cd8-ad66-36f82f8f097a",
   "metadata": {},
   "outputs": [],
   "source": [
    "import datasets.arrow_dataset as da"
   ]
  },
  {
   "cell_type": "code",
   "execution_count": 87,
   "id": "404d37c3-d579-46a2-abaf-6e23dbfe6b98",
   "metadata": {},
   "outputs": [],
   "source": [
    "data = da.Dataset.from_pandas(change_df)"
   ]
  },
  {
   "cell_type": "code",
   "execution_count": 88,
   "id": "747651b2-f2f6-4755-a658-342368a87416",
   "metadata": {},
   "outputs": [],
   "source": [
    "def flatten(example):\n",
    "    \n",
    "    dialogue_list = []\n",
    "\n",
    "    for dict_data in example['dialogue']:\n",
    "        return_string = \"\"\n",
    "        for string in dict_data:\n",
    "            return_string += string['participantID']+\": \"+string['utterance']+\"\\r\\n\"\n",
    "        \n",
    "        dialogue_list.append(return_string[:-2])\n",
    "\n",
    "    return{\n",
    "        \"dialogue\" : dialogue_list,\n",
    "        \"summary\" : example['summary']\n",
    "    }"
   ]
  },
  {
   "cell_type": "code",
   "execution_count": 89,
   "id": "19c46160-0b2e-4162-9291-8ba10a2d9478",
   "metadata": {
    "tags": []
   },
   "outputs": [
    {
     "data": {
      "application/vnd.jupyter.widget-view+json": {
       "model_id": "3f030b37ab4c4849bafdb2a0c95f78eb",
       "version_major": 2,
       "version_minor": 0
      },
      "text/plain": [
       "HBox(children=(FloatProgress(value=0.0, max=36.0), HTML(value='')))"
      ]
     },
     "metadata": {},
     "output_type": "display_data"
    },
    {
     "name": "stdout",
     "output_type": "stream",
     "text": [
      "\n"
     ]
    },
    {
     "data": {
      "text/plain": [
       "{'__index_level_0__': 0,\n",
       " 'dialogue': 'P01: 수유로오셈^^\\r\\nP02: 지금?\\r\\nP02: 지금가도대?\\r\\nP01: 지금이겠냐?\\r\\nP01: 되겠냐?\\r\\nP01: 집 데려다주냐?\\r\\nP02: 왜안댐?\\r\\nP02: ㅋㅋㅋㅋ\\r\\nP02: 너가 나데려다줘야지\\r\\nP02: 내가 수유가는데',\n",
       " 'summary': '지금 수유에 갈 테니 집에 데려다 달라고 한다.'}"
      ]
     },
     "execution_count": 89,
     "metadata": {},
     "output_type": "execute_result"
    }
   ],
   "source": [
    "dataset = data.map(flatten, remove_columns=['id'], batched = True)\n",
    "dataset[0]"
   ]
  },
  {
   "cell_type": "code",
   "execution_count": 90,
   "id": "d57a71b6-68bc-4ebb-b1f0-daddc2f4c17c",
   "metadata": {},
   "outputs": [],
   "source": [
    "def batch_tokenize_preprocess(batch, tokenizer, max_source_length, max_target_length):\n",
    "    source, target = batch[\"dialogue\"], batch[\"summary\"]\n",
    "    source_tokenized = tokenizer(\n",
    "        source, padding=\"max_length\", truncation=True, max_length=max_source_length\n",
    "    )\n",
    "    target_tokenized = tokenizer(\n",
    "        target, padding=\"max_length\", truncation=True, max_length=max_target_length\n",
    "    )\n",
    "\n",
    "    batch = {k: v for k, v in source_tokenized.items()}\n",
    "    # Ignore padding in the loss\n",
    "    batch[\"labels\"] = [\n",
    "        [-100 if token == tokenizer.pad_token_id else token for token in l]\n",
    "        for l in target_tokenized[\"input_ids\"]\n",
    "    ]\n",
    "    return batch"
   ]
  },
  {
   "cell_type": "code",
   "execution_count": 91,
   "id": "87d9a0cd-4d6f-4c11-896c-2d128ca6c4ab",
   "metadata": {},
   "outputs": [
    {
     "data": {
      "application/vnd.jupyter.widget-view+json": {
       "model_id": "4e1531e1ad104950b86c59a21e7210bb",
       "version_major": 2,
       "version_minor": 0
      },
      "text/plain": [
       "HBox(children=(FloatProgress(value=0.0, max=34.0), HTML(value='')))"
      ]
     },
     "metadata": {},
     "output_type": "display_data"
    },
    {
     "name": "stdout",
     "output_type": "stream",
     "text": [
      "\n"
     ]
    },
    {
     "data": {
      "application/vnd.jupyter.widget-view+json": {
       "model_id": "ff022279dd1d4ffb8cab91fb7b9ecd32",
       "version_major": 2,
       "version_minor": 0
      },
      "text/plain": [
       "HBox(children=(FloatProgress(value=0.0, max=2.0), HTML(value='')))"
      ]
     },
     "metadata": {},
     "output_type": "display_data"
    },
    {
     "name": "stdout",
     "output_type": "stream",
     "text": [
      "\n"
     ]
    }
   ],
   "source": [
    "train_data_txt, validation_data_txt = dataset.train_test_split(test_size=0.05).values()\n",
    "\n",
    "train_data = train_data_txt.map(\n",
    "    lambda batch: batch_tokenize_preprocess(\n",
    "        batch, tokenizer, encoder_max_length, decoder_max_length\n",
    "    ),\n",
    "    batched=True,\n",
    "    remove_columns=train_data_txt.column_names,\n",
    ")\n",
    "\n",
    "validation_data = validation_data_txt.map(\n",
    "    lambda batch: batch_tokenize_preprocess(\n",
    "        batch, tokenizer, encoder_max_length, decoder_max_length\n",
    "    ),\n",
    "    batched=True,\n",
    "    remove_columns=validation_data_txt.column_names,\n",
    ")"
   ]
  },
  {
   "cell_type": "code",
   "execution_count": 92,
   "id": "bf5ca351-7c54-4b95-9e6f-4a65f194515d",
   "metadata": {},
   "outputs": [],
   "source": [
    "nltk.download(\"punkt\", quiet=True)\n",
    "\n",
    "metric = datasets.load_metric(\"rouge\")"
   ]
  },
  {
   "cell_type": "code",
   "execution_count": 93,
   "id": "949323d9-d20c-45b9-a540-51839a031006",
   "metadata": {},
   "outputs": [
    {
     "name": "stdout",
     "output_type": "stream",
     "text": [
      "huggingface/tokenizers: The current process just got forked, after parallelism has already been used. Disabling parallelism to avoid deadlocks...\n",
      "To disable this warning, you can either:\n",
      "\t- Avoid using `tokenizers` before the fork if possible\n",
      "\t- Explicitly set the environment variable TOKENIZERS_PARALLELISM=(true | false)\n",
      "Requirement already satisfied: kss in /opt/conda/lib/python3.8/site-packages (3.4.2)\n",
      "Requirement already satisfied: regex in /opt/conda/lib/python3.8/site-packages (from kss) (2022.4.24)\n",
      "Requirement already satisfied: emoji in /opt/conda/lib/python3.8/site-packages (from kss) (1.7.0)\n",
      "Requirement already satisfied: more-itertools in /opt/conda/lib/python3.8/site-packages (from kss) (8.13.0)\n"
     ]
    }
   ],
   "source": [
    "!pip install kss"
   ]
  },
  {
   "cell_type": "code",
   "execution_count": 94,
   "id": "b77bb0b9-4311-4c32-820c-f1ffb7bdcd78",
   "metadata": {},
   "outputs": [],
   "source": [
    "import kss\n",
    "import wandb\n",
    "from tqdm import tqdm"
   ]
  },
  {
   "cell_type": "code",
   "execution_count": 95,
   "id": "f164c318-7418-4fb2-8088-0199b93c030d",
   "metadata": {},
   "outputs": [],
   "source": [
    "def postprocess_text(preds, labels):\n",
    "    preds = [pred.strip() for pred in preds]\n",
    "    labels = [label.strip() for label in labels]\n",
    "    \n",
    "    # rougeLSum expects newline after each sentence\n",
    "    preds = [\"\\n\".join(kss.split_sentences(pred)) for pred in tqdm(preds)]\n",
    "    labels = [\"\\n\".join(kss.split_sentences(label)) for label in tqdm(labels)]\n",
    "\n",
    "    return preds, labels\n",
    "\n",
    "\n",
    "def compute_metrics(eval_preds):\n",
    "    preds, labels = eval_preds\n",
    "    if isinstance(preds, tuple):\n",
    "        preds = preds[0]\n",
    "    decoded_preds = tokenizer.batch_decode(preds, skip_special_tokens=True)\n",
    "    # Replace -100 in the labels as we can't decode them.\n",
    "    labels = np.where(labels != -100, labels, tokenizer.pad_token_id)\n",
    "    decoded_labels = tokenizer.batch_decode(labels, skip_special_tokens=True)\n",
    "\n",
    "    # Some simple post-processing\n",
    "    decoded_preds, decoded_labels = postprocess_text(decoded_preds, decoded_labels)\n",
    "\n",
    "    result = metric.compute(\n",
    "        predictions=decoded_preds, references=decoded_labels, use_stemmer=True\n",
    "    )\n",
    "    # Extract a few results from ROUGE\n",
    "    result = {key: value.mid.fmeasure * 100 for key, value in result.items()}\n",
    "\n",
    "    prediction_lens = [\n",
    "        np.count_nonzero(pred != tokenizer.pad_token_id) for pred in preds\n",
    "    ]\n",
    "    result[\"gen_len\"] = np.mean(prediction_lens)\n",
    "    result = {k: round(v, 4) for k, v in result.items()}\n",
    "    return result"
   ]
  },
  {
   "cell_type": "code",
   "execution_count": null,
   "id": "5e1e172e-3640-41b1-9a01-4511a94c69e0",
   "metadata": {},
   "outputs": [
    {
     "data": {
      "text/html": [
       "Finishing last run (ID:ejcxtnwo) before initializing another..."
      ],
      "text/plain": [
       "<IPython.core.display.HTML object>"
      ]
     },
     "metadata": {},
     "output_type": "display_data"
    },
    {
     "data": {
      "text/html": [
       "Waiting for W&B process to finish... <strong style=\"color:green\">(success).</strong>"
      ],
      "text/plain": [
       "<IPython.core.display.HTML object>"
      ]
     },
     "metadata": {},
     "output_type": "display_data"
    },
    {
     "data": {
      "application/vnd.jupyter.widget-view+json": {
       "model_id": "",
       "version_major": 2,
       "version_minor": 0
      },
      "text/plain": [
       "VBox(children=(Label(value='0.000 MB of 0.000 MB uploaded (0.000 MB deduped)\\r'), FloatProgress(value=1.0, max…"
      ]
     },
     "metadata": {},
     "output_type": "display_data"
    },
    {
     "data": {
      "text/html": [
       "<style>\n",
       "    table.wandb td:nth-child(1) { padding: 0 10px; text-align: left ; width: auto;} td:nth-child(2) {text-align: left ; width: 100%}\n",
       "    .wandb-row { display: flex; flex-direction: row; flex-wrap: wrap; justify-content: flex-start; width: 100% }\n",
       "    .wandb-col { display: flex; flex-direction: column; flex-basis: 100%; flex: 1; padding: 10px; }\n",
       "    </style>\n",
       "<div class=\"wandb-row\"><div class=\"wandb-col\"><h3>Run history:</h3><br/><table class=\"wandb\"><tr><td>eval/gen_len</td><td>▁█▄</td></tr><tr><td>eval/loss</td><td>█▁▁</td></tr><tr><td>eval/rouge1</td><td>▁█▇</td></tr><tr><td>eval/rouge2</td><td>▁▆█</td></tr><tr><td>eval/rougeL</td><td>▁█▇</td></tr><tr><td>eval/rougeLsum</td><td>▁█▇</td></tr><tr><td>eval/runtime</td><td>▁██</td></tr><tr><td>eval/samples_per_second</td><td>█▁▁</td></tr><tr><td>train/epoch</td><td>▁▁▁▁▂▂▂▂▂▃▃▃▃▃▃▄▄▄▄▄▅▅▅▅▅▅▆▆▆▆▆▇▇▇▇▇████</td></tr><tr><td>train/global_step</td><td>▁▁▁▁▂▂▂▂▂▃▃▃▃▃▃▄▄▄▄▄▅▅▅▅▅▅▆▆▆▆▆▇▇▇▇▇████</td></tr><tr><td>train/learning_rate</td><td>▂▄▆███▇▇▇▇▇▆▆▆▆▆▅▅▅▅▅▄▄▄▄▄▄▃▃▃▃▃▂▂▂▂▂▁▁▁</td></tr><tr><td>train/loss</td><td>█▃▂▂▂▂▂▂▂▂▂▂▂▂▁▁▁▁▁▁▁▁▁▁▁▁▁▁▁▁▁▁▁▁▁▁▁▁▁▁</td></tr><tr><td>train/total_flos</td><td>▁</td></tr><tr><td>train/train_runtime</td><td>▁</td></tr><tr><td>train/train_samples_per_second</td><td>▁</td></tr></table><br/></div><div class=\"wandb-col\"><h3>Run summary:</h3><br/><table class=\"wandb\"><tr><td>eval/gen_len</td><td>18.6294</td></tr><tr><td>eval/loss</td><td>3.40822</td></tr><tr><td>eval/rouge1</td><td>9.3009</td></tr><tr><td>eval/rouge2</td><td>1.7971</td></tr><tr><td>eval/rougeL</td><td>9.188</td></tr><tr><td>eval/rougeLsum</td><td>9.2143</td></tr><tr><td>eval/runtime</td><td>2978.482</td></tr><tr><td>eval/samples_per_second</td><td>0.588</td></tr><tr><td>train/epoch</td><td>3.0</td></tr><tr><td>train/global_step</td><td>6234</td></tr><tr><td>train/learning_rate</td><td>0.0</td></tr><tr><td>train/loss</td><td>2.8922</td></tr><tr><td>train/total_flos</td><td>2.120208475734835e+16</td></tr><tr><td>train/train_runtime</td><td>11476.0319</td></tr><tr><td>train/train_samples_per_second</td><td>0.543</td></tr></table><br/></div></div>"
      ],
      "text/plain": [
       "<IPython.core.display.HTML object>"
      ]
     },
     "metadata": {},
     "output_type": "display_data"
    },
    {
     "data": {
      "text/html": [
       "Synced <strong style=\"color:#cdcd00\">korean</strong>: <a href=\"https://wandb.ai/miml/example/runs/ejcxtnwo\" target=\"_blank\">https://wandb.ai/miml/example/runs/ejcxtnwo</a><br/>Synced 5 W&B file(s), 0 media file(s), 0 artifact file(s) and 0 other file(s)"
      ],
      "text/plain": [
       "<IPython.core.display.HTML object>"
      ]
     },
     "metadata": {},
     "output_type": "display_data"
    },
    {
     "data": {
      "text/html": [
       "Find logs at: <code>./wandb/run-20220522_145205-ejcxtnwo/logs</code>"
      ],
      "text/plain": [
       "<IPython.core.display.HTML object>"
      ]
     },
     "metadata": {},
     "output_type": "display_data"
    },
    {
     "data": {
      "text/html": [
       "Successfully finished last run (ID:ejcxtnwo). Initializing new run:<br/>"
      ],
      "text/plain": [
       "<IPython.core.display.HTML object>"
      ]
     },
     "metadata": {},
     "output_type": "display_data"
    },
    {
     "name": "stdout",
     "output_type": "stream",
     "text": [
      "huggingface/tokenizers: The current process just got forked, after parallelism has already been used. Disabling parallelism to avoid deadlocks...\n",
      "To disable this warning, you can either:\n",
      "\t- Avoid using `tokenizers` before the fork if possible\n",
      "\t- Explicitly set the environment variable TOKENIZERS_PARALLELISM=(true | false)\n"
     ]
    },
    {
     "data": {
      "text/html": [
       "Tracking run with wandb version 0.12.16"
      ],
      "text/plain": [
       "<IPython.core.display.HTML object>"
      ]
     },
     "metadata": {},
     "output_type": "display_data"
    },
    {
     "data": {
      "text/html": [
       "Run data is saved locally in <code>/opt/ml/wandb/run-20220523_011848-3f8z32f4</code>"
      ],
      "text/plain": [
       "<IPython.core.display.HTML object>"
      ]
     },
     "metadata": {},
     "output_type": "display_data"
    },
    {
     "data": {
      "text/html": [
       "Syncing run <strong><a href=\"https://wandb.ai/miml/example/runs/3f8z32f4\" target=\"_blank\">korean</a></strong> to <a href=\"https://wandb.ai/miml/example\" target=\"_blank\">Weights & Biases</a> (<a href=\"https://wandb.me/run\" target=\"_blank\">docs</a>)<br/>"
      ],
      "text/plain": [
       "<IPython.core.display.HTML object>"
      ]
     },
     "metadata": {},
     "output_type": "display_data"
    }
   ],
   "source": [
    "wandb.init(project=\"example\", entity=\"miml\", name= 'korean')\n",
    "\n",
    "training_args = Seq2SeqTrainingArguments(\n",
    "    output_dir=\"results\",\n",
    "    num_train_epochs=3,  # demo\n",
    "    do_train=True,\n",
    "    do_eval=True,\n",
    "    per_device_train_batch_size=4,  # demo\n",
    "    per_device_eval_batch_size=4,\n",
    "    gradient_accumulation_steps = 4,\n",
    "    learning_rate=5e-05,\n",
    "    warmup_steps=500,\n",
    "    weight_decay=0.1,\n",
    "    label_smoothing_factor=0.1,\n",
    "    predict_with_generate=True,\n",
    "    logging_dir=\"logs\",\n",
    "    logging_steps=50,\n",
    "    save_total_limit=3,\n",
    "    fp16=True,\n",
    "    fp16_opt_level= 'O1',\n",
    "    evaluation_strategy= 'steps',\n",
    "    eval_steps = 2000\n",
    ")\n",
    "\n",
    "data_collator = DataCollatorForSeq2Seq(tokenizer, model=model)\n",
    "\n",
    "trainer = Seq2SeqTrainer(\n",
    "    model=model,\n",
    "    args=training_args,\n",
    "    data_collator=data_collator,\n",
    "    train_dataset=train_data,\n",
    "    eval_dataset=validation_data,\n",
    "    tokenizer=tokenizer,\n",
    "    compute_metrics=compute_metrics,\n",
    ")"
   ]
  },
  {
   "cell_type": "code",
   "execution_count": null,
   "id": "5fc8e1c6-1643-46e8-8412-29e256a96dea",
   "metadata": {
    "tags": []
   },
   "outputs": [],
   "source": [
    "trainer.train()"
   ]
  },
  {
   "cell_type": "code",
   "execution_count": null,
   "id": "dca967df-8500-4d9c-9828-0b4640c73069",
   "metadata": {},
   "outputs": [],
   "source": [
    "def generate_summary(test_samples, model):\n",
    "    inputs = tokenizer(\n",
    "        test_samples[\"dialogue\"],\n",
    "        padding=\"max_length\",\n",
    "        truncation=True,\n",
    "        max_length=encoder_max_length,\n",
    "        return_tensors=\"pt\",\n",
    "    )\n",
    "    input_ids = inputs.input_ids.to(model.device)\n",
    "    attention_mask = inputs.attention_mask.to(model.device)\n",
    "    outputs = model.generate(input_ids, attention_mask=attention_mask)\n",
    "    output_str = tokenizer.batch_decode(outputs, skip_special_tokens=True)\n",
    "    return outputs, output_str"
   ]
  },
  {
   "cell_type": "code",
   "execution_count": null,
   "id": "8bf00c92-f49c-43e0-b45d-dac9c421a8e3",
   "metadata": {},
   "outputs": [],
   "source": [
    "summaries_after_tuning = generate_summary(validation_data_txt, model)[1]"
   ]
  },
  {
   "cell_type": "code",
   "execution_count": null,
   "id": "8d56e467-2d2f-4c7e-beaf-467ad1a8ae82",
   "metadata": {},
   "outputs": [],
   "source": [
    "summaries_after_tuning[0]"
   ]
  },
  {
   "cell_type": "code",
   "execution_count": null,
   "id": "a5bab947-43dc-47a6-a278-2b7e744db072",
   "metadata": {},
   "outputs": [],
   "source": [
    "summaries_after_tuning[104]"
   ]
  },
  {
   "cell_type": "code",
   "execution_count": null,
   "id": "9a4c76fa-aac1-4d7b-9244-cdec1525590a",
   "metadata": {},
   "outputs": [],
   "source": [
    "validation_data_txt[104]"
   ]
  },
  {
   "cell_type": "code",
   "execution_count": null,
   "id": "28d4f8c7-bec0-4844-beab-df07af8fee74",
   "metadata": {},
   "outputs": [],
   "source": []
  },
  {
   "cell_type": "code",
   "execution_count": null,
   "id": "4c8fa6f8-9d62-4610-ae0e-c61baba4dc4d",
   "metadata": {},
   "outputs": [],
   "source": []
  },
  {
   "cell_type": "code",
   "execution_count": null,
   "id": "a1c7baa4-1875-4942-9f94-6fc2909948d2",
   "metadata": {},
   "outputs": [],
   "source": []
  },
  {
   "cell_type": "code",
   "execution_count": null,
   "id": "f601ef37-a4ea-46d5-bfad-e2ae3bf2ee28",
   "metadata": {},
   "outputs": [],
   "source": []
  },
  {
   "cell_type": "code",
   "execution_count": null,
   "id": "cdb351b6-ebff-4fcc-b435-a636b6ea206a",
   "metadata": {},
   "outputs": [],
   "source": []
  },
  {
   "cell_type": "code",
   "execution_count": null,
   "id": "2babd44e-4e9c-4f3f-97c3-da30e1ada5dd",
   "metadata": {},
   "outputs": [],
   "source": []
  }
 ],
 "metadata": {
  "kernelspec": {
   "display_name": "Python 3 (ipykernel)",
   "language": "python",
   "name": "python3"
  },
  "language_info": {
   "codemirror_mode": {
    "name": "ipython",
    "version": 3
   },
   "file_extension": ".py",
   "mimetype": "text/x-python",
   "name": "python",
   "nbconvert_exporter": "python",
   "pygments_lexer": "ipython3",
   "version": "3.8.5"
  }
 },
 "nbformat": 4,
 "nbformat_minor": 5
}
