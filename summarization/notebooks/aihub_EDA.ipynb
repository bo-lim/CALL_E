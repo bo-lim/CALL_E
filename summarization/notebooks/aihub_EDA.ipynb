{
 "cells": [
  {
   "cell_type": "code",
   "execution_count": 1,
   "metadata": {},
   "outputs": [],
   "source": [
    "import json\n",
    "import pandas as pd\n",
    "from datasets import load_dataset, Dataset"
   ]
  },
  {
   "cell_type": "code",
   "execution_count": 4,
   "metadata": {},
   "outputs": [],
   "source": [
    "with open('./data/sample.json') as f:\n",
    "    data = json.load(f)"
   ]
  },
  {
   "cell_type": "code",
   "execution_count": 5,
   "metadata": {},
   "outputs": [
    {
     "data": {
      "text/plain": [
       "'\\n변경할 데이터\\ndialogueID\\nutterance\\nsummary\\n'"
      ]
     },
     "execution_count": 5,
     "metadata": {},
     "output_type": "execute_result"
    }
   ],
   "source": [
    "# numberOfItems: 3140\n",
    "\n",
    "# data\n",
    "# \theader\n",
    "# \t\tdialogueInfo\n",
    "# \t\t\tdialogueID: dialogue 식별 번호 (str)\n",
    "# \t\t\tnumberOfParticipants: 참여자 수 (int)\n",
    "# \t\t\tnumberOfUtterances: 말 수 (int)\n",
    "# \t\t\tnumberOfTurns: 말 차례 수 (int)\n",
    "# \t\t\ttype: 대화 유형 (str)\n",
    "# \t\t\ttopic: 대화 주제 (str)\n",
    "# \t\tparticipantsInfo: 대화 참여자 정보 (list)\n",
    "# \t\t\tparticipantsID: 참여자 식별 아이디 (str)\n",
    "# \t\t\t\tgender: 참여자 성별 (str)\n",
    "# \t\t\t\tage: 참여자 연령대 (str)\n",
    "# \t\t\t\tresidentialProvince: 참여자 거주지 (str)\n",
    "\n",
    "# \tbody\n",
    "# \t\tdialogue: 대화 목록 (list)\n",
    "# \t\t\tutteranceID: 발화 ID (dialogue내 각 발화당 unique)\n",
    "# \t\t\tturnID: 말차례 ID\n",
    "# \t\t\tparticipantID: 대화 참여자 ID (대화 참여자 수와 같다)\n",
    "# \t\t\tdate: 날짜\n",
    "# \t\t\ttime: 시간\n",
    "# \t\t\tutteance : 말\n",
    "# \t\tsummary: 요약문\n",
    "\n",
    "\"\"\"\n",
    "변경할 데이터\n",
    "dialogueID\n",
    "utterance\n",
    "summary\n",
    "\"\"\""
   ]
  },
  {
   "cell_type": "code",
   "execution_count": 36,
   "metadata": {},
   "outputs": [],
   "source": [
    "def dict_aihub(raw_data):\n",
    "    data_len = raw_data['numberOfItems']\n",
    "    data = raw_data['data']\n",
    "    data_dict = {'data':[]}\n",
    "\n",
    "    for i in range(data_len):\n",
    "        # 대화 식별 번호 (unique ID)\n",
    "        dialogueID = data[i]['header']['dialogueInfo']['dialogueID']\n",
    "\n",
    "        # 대화만 추출 (\"발화자: 대화내용\" \\n로 이어붙임)\n",
    "        utterances = [data[i]['body']['dialogue'][k]['utterance'] for k in range(len(data[i]['body']['dialogue']))]\n",
    "        participantIDs = [data[i]['body']['dialogue'][k]['participantID'] for k in range(len(data[i]['body']['dialogue']))]\n",
    "        dial = [f'{participantIDs[k]}: {utterances[k]}' for k in range(len(utterances))]\n",
    "        dial = '\\n'.join(dial)\n",
    "        # 요약 목록\n",
    "        summary = data[i]['body']['summary']\n",
    "        data_dict[dialogueID] = {'dialogue': dial, 'summary': summary}\n",
    "        data_dict['data'].append({'ID': dialogueID, 'dialogue': dial, 'summary': summary})\n",
    "\n",
    "    return data_dict"
   ]
  },
  {
   "cell_type": "code",
   "execution_count": 37,
   "metadata": {},
   "outputs": [],
   "source": [
    "dict_data = dict_aihub(data)"
   ]
  },
  {
   "cell_type": "code",
   "execution_count": 80,
   "metadata": {},
   "outputs": [],
   "source": [
    "train_dict = {'data': dict_data['data'][:3000]}\n",
    "valid_dict = {'data': dict_data['data'][3000:]}"
   ]
  },
  {
   "cell_type": "code",
   "execution_count": 81,
   "metadata": {},
   "outputs": [],
   "source": [
    "# Total data\n",
    "with open('./data/aihub_all.json', 'w') as f:\n",
    "    json.dump(dict_data, f, ensure_ascii=False, indent=4)\n",
    "# Train data\n",
    "with open('./data/aihub_train.json', 'w') as f:\n",
    "    json.dump(train_dict, f, ensure_ascii=False, indent=4)\n",
    "# valid data\n",
    "with open('./data/aihub_valid.json', 'w') as f:\n",
    "    json.dump(valid_dict, f, ensure_ascii=False, indent=4)"
   ]
  },
  {
   "cell_type": "code",
   "execution_count": 82,
   "metadata": {},
   "outputs": [
    {
     "name": "stderr",
     "output_type": "stream",
     "text": [
      "Using custom data configuration default-13478544d65a6365\n"
     ]
    },
    {
     "name": "stdout",
     "output_type": "stream",
     "text": [
      "Downloading and preparing dataset json/default (download: Unknown size, generated: Unknown size, post-processed: Unknown size, total: Unknown size) to /opt/ml/.cache/huggingface/datasets/json/default-13478544d65a6365/0.0.0/83d5b3a2f62630efc6b5315f00f20209b4ad91a00ac586597caee3a4da0bef02...\n"
     ]
    },
    {
     "data": {
      "application/vnd.jupyter.widget-view+json": {
       "model_id": "d5aab2dd32a842939148faa7e3babfcf",
       "version_major": 2,
       "version_minor": 0
      },
      "text/plain": [
       "HBox(children=(FloatProgress(value=1.0, bar_style='info', layout=Layout(width='20px'), max=1.0), HTML(value=''…"
      ]
     },
     "metadata": {},
     "output_type": "display_data"
    },
    {
     "name": "stdout",
     "output_type": "stream",
     "text": [
      "Dataset json downloaded and prepared to /opt/ml/.cache/huggingface/datasets/json/default-13478544d65a6365/0.0.0/83d5b3a2f62630efc6b5315f00f20209b4ad91a00ac586597caee3a4da0bef02. Subsequent calls will reuse this data.\n"
     ]
    }
   ],
   "source": [
    "d = load_dataset('json', data_files='./data/aihub_all.json', field='data')"
   ]
  },
  {
   "cell_type": "code",
   "execution_count": 84,
   "metadata": {},
   "outputs": [
    {
     "name": "stderr",
     "output_type": "stream",
     "text": [
      "Using custom data configuration default-81a72d79245e17a8\n"
     ]
    },
    {
     "name": "stdout",
     "output_type": "stream",
     "text": [
      "Downloading and preparing dataset json/default (download: Unknown size, generated: Unknown size, post-processed: Unknown size, total: Unknown size) to /opt/ml/.cache/huggingface/datasets/json/default-81a72d79245e17a8/0.0.0/83d5b3a2f62630efc6b5315f00f20209b4ad91a00ac586597caee3a4da0bef02...\n"
     ]
    },
    {
     "data": {
      "application/vnd.jupyter.widget-view+json": {
       "model_id": "19e4ff29f86148a89e5e5cfa532a8e42",
       "version_major": 2,
       "version_minor": 0
      },
      "text/plain": [
       "HBox(children=(FloatProgress(value=1.0, bar_style='info', layout=Layout(width='20px'), max=1.0), HTML(value=''…"
      ]
     },
     "metadata": {},
     "output_type": "display_data"
    },
    {
     "data": {
      "application/vnd.jupyter.widget-view+json": {
       "model_id": "5df24254b29f40f8bbf630ddc755567f",
       "version_major": 2,
       "version_minor": 0
      },
      "text/plain": [
       "HBox(children=(FloatProgress(value=1.0, bar_style='info', layout=Layout(width='20px'), max=1.0), HTML(value=''…"
      ]
     },
     "metadata": {},
     "output_type": "display_data"
    },
    {
     "name": "stdout",
     "output_type": "stream",
     "text": [
      "Dataset json downloaded and prepared to /opt/ml/.cache/huggingface/datasets/json/default-81a72d79245e17a8/0.0.0/83d5b3a2f62630efc6b5315f00f20209b4ad91a00ac586597caee3a4da0bef02. Subsequent calls will reuse this data.\n"
     ]
    }
   ],
   "source": [
    "aihub_data = load_dataset('json', data_files={'train':'./data/aihub_train.json', 'validation': './data/aihub_valid.json'}, field='data')"
   ]
  },
  {
   "cell_type": "code",
   "execution_count": 85,
   "metadata": {},
   "outputs": [
    {
     "data": {
      "text/plain": [
       "DatasetDict({\n",
       "    train: Dataset({\n",
       "        features: ['ID', 'dialogue', 'summary'],\n",
       "        num_rows: 3000\n",
       "    })\n",
       "    validation: Dataset({\n",
       "        features: ['ID', 'dialogue', 'summary'],\n",
       "        num_rows: 140\n",
       "    })\n",
       "})"
      ]
     },
     "execution_count": 85,
     "metadata": {},
     "output_type": "execute_result"
    }
   ],
   "source": [
    "aihub_data"
   ]
  },
  {
   "cell_type": "code",
   "execution_count": 51,
   "metadata": {},
   "outputs": [],
   "source": [
    "train_df = pd.DataFrame(d['train'])"
   ]
  },
  {
   "cell_type": "code",
   "execution_count": 52,
   "metadata": {},
   "outputs": [
    {
     "data": {
      "text/html": [
       "<div>\n",
       "<style scoped>\n",
       "    .dataframe tbody tr th:only-of-type {\n",
       "        vertical-align: middle;\n",
       "    }\n",
       "\n",
       "    .dataframe tbody tr th {\n",
       "        vertical-align: top;\n",
       "    }\n",
       "\n",
       "    .dataframe thead th {\n",
       "        text-align: right;\n",
       "    }\n",
       "</style>\n",
       "<table border=\"1\" class=\"dataframe\">\n",
       "  <thead>\n",
       "    <tr style=\"text-align: right;\">\n",
       "      <th></th>\n",
       "      <th>ID</th>\n",
       "      <th>dialogue</th>\n",
       "      <th>summary</th>\n",
       "    </tr>\n",
       "  </thead>\n",
       "  <tbody>\n",
       "    <tr>\n",
       "      <th>0</th>\n",
       "      <td>43ca4319-4599-56be-a07f-6ec50db0ef4f</td>\n",
       "      <td>P01: 너~~무 앞인데\\nP02: ㅋㄲㅋㅋ\\nP02: #@이름#가\\nP02: 겉돈...</td>\n",
       "      <td>너와 나처럼 편하고 잘 노는 아이는 아니라서 겉돈다는 느낌이 있다며 헤어졌는데 너무...</td>\n",
       "    </tr>\n",
       "    <tr>\n",
       "      <th>1</th>\n",
       "      <td>6e0a8762-a333-58b8-b7ce-c1511cf2c426</td>\n",
       "      <td>P01: 엄마 대단하지 않냐\\nP01: 아빠랑 30년동안 같이 자고\\nP02: 코 ...</td>\n",
       "      <td>아빠가 코 골고 잠꼬대하는데 30년 동안 같이 자는 엄마가 대단한 것 같다.</td>\n",
       "    </tr>\n",
       "    <tr>\n",
       "      <th>2</th>\n",
       "      <td>3309391b-5ca5-58ea-80c4-ff70f444502d</td>\n",
       "      <td>P01: #@이모티콘#\\nP01: 그러고보니까\\nP01: 이제 퇴근 30분남앗네!\\...</td>\n",
       "      <td>사용한 이모티콘이 너무 귀엽다고 하니 친구가 정신없다고 쓰지 말라고 했다.</td>\n",
       "    </tr>\n",
       "    <tr>\n",
       "      <th>3</th>\n",
       "      <td>3465b9f4-894b-5c50-9ffe-c7f09091efa2</td>\n",
       "      <td>P01: 진짜 강아지 키우고싶다..\\nP01: 독립생각없어?\\nP02: 웅웅 ㅠㅠ\\...</td>\n",
       "      <td>반려동물을 데려오고 싶은 마음을 털어놓는다.</td>\n",
       "    </tr>\n",
       "    <tr>\n",
       "      <th>4</th>\n",
       "      <td>6fe62806-14d9-5693-a5a4-05551f931349</td>\n",
       "      <td>P01: 지금은 애들이 일찍자니까\\nP01: 전에 수업끝나고 애들보고간다고\\nP02...</td>\n",
       "      <td>고모가 전에는 수업이 끝나고 밤에 애들을 보고 가고 요즈음(요즘)은 수업을 가기 전...</td>\n",
       "    </tr>\n",
       "    <tr>\n",
       "      <th>...</th>\n",
       "      <td>...</td>\n",
       "      <td>...</td>\n",
       "      <td>...</td>\n",
       "    </tr>\n",
       "    <tr>\n",
       "      <th>3135</th>\n",
       "      <td>1b9cc7f1-7f3d-5799-bad3-d77b7d00140a</td>\n",
       "      <td>P01: #@이름#이도 잘모르던데개\\nP02: 엠티 얘기하던데ㅋㅋㅋㅋㅋㅋㅋㅋㅋ\\nP...</td>\n",
       "      <td>엠티(MT)를 갈지 말지 고민하고 있으며 아마 갈 수 있을 것 같다.</td>\n",
       "    </tr>\n",
       "    <tr>\n",
       "      <th>3136</th>\n",
       "      <td>6d7a3b6c-6c81-572f-9184-b305e98d9392</td>\n",
       "      <td>P01: 배고파..!!\\nP01: 근데 우리 어디가???\\nP01: 주안?구월동?\\...</td>\n",
       "      <td>선약이 있다고 말하고 일찍 나와서 주안이나 구월동 둘 중에 어디로 가야 할지 이야기한다.</td>\n",
       "    </tr>\n",
       "    <tr>\n",
       "      <th>3137</th>\n",
       "      <td>d437ac0b-190f-5dcb-9b7d-fa32e09a2860</td>\n",
       "      <td>P01: 몇시쯤볼까\\nP02: 1시까지보자\\nP02: 어디서봐야하지\\nP01: 그러...</td>\n",
       "      <td>갤러리아에서 1시까지 보자고 하였다.</td>\n",
       "    </tr>\n",
       "    <tr>\n",
       "      <th>3138</th>\n",
       "      <td>1c9ed3f1-d89d-5dd0-aaa0-98750b598c8a</td>\n",
       "      <td>P01: 뚜섬으로 와\\nP02: 점심도 못 먹고 개배고픈데ㅋㅋㅋㅋ\\nP01: 그거 ...</td>\n",
       "      <td>투썸플레이스(투썸)에서 만나서 쿠폰을 사용하려 한다.</td>\n",
       "    </tr>\n",
       "    <tr>\n",
       "      <th>3139</th>\n",
       "      <td>fe3a841d-2b6f-531f-aaa6-2ac0a660363c</td>\n",
       "      <td>P01: ㅋㅋㅋㅋㅋ님 그럼\\nP01: 언제오는걸로 확정인뎅\\nP02: 토일월~\\nP...</td>\n",
       "      <td>토요일, 일요일, 월요일에 오는 걸로 확정을 지었고 이번 주인지 다음 주인지 물어보...</td>\n",
       "    </tr>\n",
       "  </tbody>\n",
       "</table>\n",
       "<p>3140 rows × 3 columns</p>\n",
       "</div>"
      ],
      "text/plain": [
       "                                        ID  \\\n",
       "0     43ca4319-4599-56be-a07f-6ec50db0ef4f   \n",
       "1     6e0a8762-a333-58b8-b7ce-c1511cf2c426   \n",
       "2     3309391b-5ca5-58ea-80c4-ff70f444502d   \n",
       "3     3465b9f4-894b-5c50-9ffe-c7f09091efa2   \n",
       "4     6fe62806-14d9-5693-a5a4-05551f931349   \n",
       "...                                    ...   \n",
       "3135  1b9cc7f1-7f3d-5799-bad3-d77b7d00140a   \n",
       "3136  6d7a3b6c-6c81-572f-9184-b305e98d9392   \n",
       "3137  d437ac0b-190f-5dcb-9b7d-fa32e09a2860   \n",
       "3138  1c9ed3f1-d89d-5dd0-aaa0-98750b598c8a   \n",
       "3139  fe3a841d-2b6f-531f-aaa6-2ac0a660363c   \n",
       "\n",
       "                                               dialogue  \\\n",
       "0     P01: 너~~무 앞인데\\nP02: ㅋㄲㅋㅋ\\nP02: #@이름#가\\nP02: 겉돈...   \n",
       "1     P01: 엄마 대단하지 않냐\\nP01: 아빠랑 30년동안 같이 자고\\nP02: 코 ...   \n",
       "2     P01: #@이모티콘#\\nP01: 그러고보니까\\nP01: 이제 퇴근 30분남앗네!\\...   \n",
       "3     P01: 진짜 강아지 키우고싶다..\\nP01: 독립생각없어?\\nP02: 웅웅 ㅠㅠ\\...   \n",
       "4     P01: 지금은 애들이 일찍자니까\\nP01: 전에 수업끝나고 애들보고간다고\\nP02...   \n",
       "...                                                 ...   \n",
       "3135  P01: #@이름#이도 잘모르던데개\\nP02: 엠티 얘기하던데ㅋㅋㅋㅋㅋㅋㅋㅋㅋ\\nP...   \n",
       "3136  P01: 배고파..!!\\nP01: 근데 우리 어디가???\\nP01: 주안?구월동?\\...   \n",
       "3137  P01: 몇시쯤볼까\\nP02: 1시까지보자\\nP02: 어디서봐야하지\\nP01: 그러...   \n",
       "3138  P01: 뚜섬으로 와\\nP02: 점심도 못 먹고 개배고픈데ㅋㅋㅋㅋ\\nP01: 그거 ...   \n",
       "3139  P01: ㅋㅋㅋㅋㅋ님 그럼\\nP01: 언제오는걸로 확정인뎅\\nP02: 토일월~\\nP...   \n",
       "\n",
       "                                                summary  \n",
       "0     너와 나처럼 편하고 잘 노는 아이는 아니라서 겉돈다는 느낌이 있다며 헤어졌는데 너무...  \n",
       "1            아빠가 코 골고 잠꼬대하는데 30년 동안 같이 자는 엄마가 대단한 것 같다.  \n",
       "2             사용한 이모티콘이 너무 귀엽다고 하니 친구가 정신없다고 쓰지 말라고 했다.  \n",
       "3                              반려동물을 데려오고 싶은 마음을 털어놓는다.  \n",
       "4     고모가 전에는 수업이 끝나고 밤에 애들을 보고 가고 요즈음(요즘)은 수업을 가기 전...  \n",
       "...                                                 ...  \n",
       "3135             엠티(MT)를 갈지 말지 고민하고 있으며 아마 갈 수 있을 것 같다.  \n",
       "3136  선약이 있다고 말하고 일찍 나와서 주안이나 구월동 둘 중에 어디로 가야 할지 이야기한다.  \n",
       "3137                               갤러리아에서 1시까지 보자고 하였다.  \n",
       "3138                      투썸플레이스(투썸)에서 만나서 쿠폰을 사용하려 한다.  \n",
       "3139  토요일, 일요일, 월요일에 오는 걸로 확정을 지었고 이번 주인지 다음 주인지 물어보...  \n",
       "\n",
       "[3140 rows x 3 columns]"
      ]
     },
     "execution_count": 52,
     "metadata": {},
     "output_type": "execute_result"
    }
   ],
   "source": [
    "train_df"
   ]
  },
  {
   "cell_type": "markdown",
   "metadata": {},
   "source": [
    "## Tokenizer"
   ]
  },
  {
   "cell_type": "code",
   "execution_count": 53,
   "metadata": {},
   "outputs": [],
   "source": [
    "from transformers import AutoTokenizer"
   ]
  },
  {
   "cell_type": "code",
   "execution_count": 54,
   "metadata": {},
   "outputs": [],
   "source": [
    "tokenizer = AutoTokenizer.from_pretrained(\n",
    "    'gogamza/kobart-summarization',\n",
    "    use_fast=True\n",
    ")"
   ]
  },
  {
   "cell_type": "code",
   "execution_count": 55,
   "metadata": {},
   "outputs": [
    {
     "data": {
      "text/plain": [
       "PreTrainedTokenizerFast(name_or_path='gogamza/kobart-summarization', vocab_size=30000, model_max_len=1000000000000000019884624838656, is_fast=True, padding_side='right', special_tokens={'bos_token': '<s>', 'eos_token': '</s>', 'unk_token': '<unk>', 'sep_token': '</s>', 'pad_token': '<pad>', 'cls_token': '<s>', 'mask_token': AddedToken(\"<mask>\", rstrip=False, lstrip=True, single_word=False, normalized=False)})"
      ]
     },
     "execution_count": 55,
     "metadata": {},
     "output_type": "execute_result"
    }
   ],
   "source": [
    "tokenizer"
   ]
  },
  {
   "cell_type": "code",
   "execution_count": 56,
   "metadata": {},
   "outputs": [],
   "source": [
    "train_data = d['train']\n",
    "inputs, targets = [],[]\n",
    "for i in range(len(train_data)):\n",
    "    inputs.append(train_data['dialogue'][i])\n",
    "    targets.append(train_data['summary'][i])"
   ]
  },
  {
   "cell_type": "code",
   "execution_count": 57,
   "metadata": {},
   "outputs": [],
   "source": [
    "model_inputs = tokenizer(inputs, max_length=1026, padding=\"max_length\")\n",
    "labels = tokenizer(targets, max_length=128, padding=\"max_length\")"
   ]
  },
  {
   "cell_type": "code",
   "execution_count": 58,
   "metadata": {},
   "outputs": [
    {
     "data": {
      "text/plain": [
       "dict_keys(['input_ids', 'attention_mask'])"
      ]
     },
     "execution_count": 58,
     "metadata": {},
     "output_type": "execute_result"
    }
   ],
   "source": [
    "labels.keys()\n",
    "model_inputs.keys()"
   ]
  },
  {
   "cell_type": "code",
   "execution_count": 61,
   "metadata": {},
   "outputs": [
    {
     "data": {
      "text/plain": [
       "'P01: 너~~무 앞인데\\nP02: ᄏᄁᄏᄏ\\nP02: #@이름#가\\nP02: 겉돈단 생각 없지않아 조금하고있어서 조금 예민할수도\\nP02: 너랑나처럼 #@기타#편하고 막 잘놀고그런건아니자너\\nP02: 그와중에 놀아달라할때 씹으믄 약간의 소외감느낄껄ᄏᄏ\\nP02: 근데오긴올듯\\nP02: 근데 헤어졌는데\\nP02: 너무 무시해섴ᄏ맘상했것다..\\nP01: 아아아아\\nP01: ᄋᄋ갑자기\\nP01: 이해 팍 된다\\nP01: 확 와닿앗음\\nP01: ㅠㅠㅠㅠᅲ\\nP01: 겉돈단 느낌 지금도 들려나\\nP01: 이제 대놓고 괴롭히는 좋아ᄏᄏ이없는뎅\\nP01: 운다 울어운다 울어근데 소외감 느꼇을만하네\\nP01: #@기타# 멘탈 나갓을때니까\\nP01: 아무도안들어주는거같거\\nP02: 그러게\\nP02: 하씨 친구랑놀다 얼핏본거여서\\nP01: 나도 ncs하다가 내얘기하느<unk>웃기다ᄏ#@기타#웃기다ᄏᄏᄏ\\nP02: 별거아니겠지해쏜디\\nP01: 십어버림<pad><pad><pad><pad><pad><pad><pad><pad><pad><pad><pad><pad><pad><pad><pad><pad><pad><pad><pad><pad><pad><pad><pad><pad><pad><pad><pad><pad><pad><pad><pad><pad><pad><pad><pad><pad><pad><pad><pad><pad><pad><pad><pad><pad><pad><pad><pad><pad><pad><pad><pad><pad><pad><pad><pad><pad><pad><pad><pad><pad><pad><pad><pad><pad><pad><pad><pad><pad><pad><pad><pad><pad><pad><pad><pad><pad><pad><pad><pad><pad><pad><pad><pad><pad><pad><pad><pad><pad><pad><pad><pad><pad><pad><pad><pad><pad><pad><pad><pad><pad><pad><pad><pad><pad><pad><pad><pad><pad><pad><pad><pad><pad><pad><pad><pad><pad><pad><pad><pad><pad><pad><pad><pad><pad><pad><pad><pad><pad><pad><pad><pad><pad><pad><pad><pad><pad><pad><pad><pad><pad><pad><pad><pad><pad><pad><pad><pad><pad><pad><pad><pad><pad><pad><pad><pad><pad><pad><pad><pad><pad><pad><pad><pad><pad><pad><pad><pad><pad><pad><pad><pad><pad><pad><pad><pad><pad><pad><pad><pad><pad><pad><pad><pad><pad><pad><pad><pad><pad><pad><pad><pad><pad><pad><pad><pad><pad><pad><pad><pad><pad><pad><pad><pad><pad><pad><pad><pad><pad><pad><pad><pad><pad><pad><pad><pad><pad><pad><pad><pad><pad><pad><pad><pad><pad><pad><pad><pad><pad><pad><pad><pad><pad><pad><pad><pad><pad><pad><pad><pad><pad><pad><pad><pad><pad><pad><pad><pad><pad><pad><pad><pad><pad><pad><pad><pad><pad><pad><pad><pad><pad><pad><pad><pad><pad><pad><pad><pad><pad><pad><pad><pad><pad><pad><pad><pad><pad><pad><pad><pad><pad><pad><pad><pad><pad><pad><pad><pad><pad><pad><pad><pad><pad><pad><pad><pad><pad><pad><pad><pad><pad><pad><pad><pad><pad><pad><pad><pad><pad><pad><pad><pad><pad><pad><pad><pad><pad><pad><pad><pad><pad><pad><pad><pad><pad><pad><pad><pad><pad><pad><pad><pad><pad><pad><pad><pad><pad><pad><pad><pad><pad><pad><pad><pad><pad><pad><pad><pad><pad><pad><pad><pad><pad><pad><pad><pad><pad><pad><pad><pad><pad><pad><pad><pad><pad><pad><pad><pad><pad><pad><pad><pad><pad><pad><pad><pad><pad><pad><pad><pad><pad><pad><pad><pad><pad><pad><pad><pad><pad><pad><pad><pad><pad><pad><pad><pad><pad><pad><pad><pad><pad><pad><pad><pad><pad><pad><pad><pad><pad><pad><pad><pad><pad><pad><pad><pad><pad><pad><pad><pad><pad><pad><pad><pad><pad><pad><pad><pad><pad><pad><pad><pad><pad><pad><pad><pad><pad><pad><pad><pad><pad><pad><pad><pad><pad><pad><pad><pad><pad><pad><pad><pad><pad><pad><pad><pad><pad><pad><pad><pad><pad><pad><pad><pad><pad><pad><pad><pad><pad><pad><pad><pad><pad><pad><pad><pad><pad><pad><pad><pad><pad><pad><pad><pad><pad><pad><pad><pad><pad><pad><pad><pad><pad><pad><pad><pad><pad><pad><pad><pad><pad><pad><pad><pad><pad><pad><pad><pad><pad><pad><pad><pad><pad><pad><pad><pad><pad><pad><pad><pad><pad><pad><pad><pad><pad><pad><pad><pad><pad><pad><pad><pad><pad><pad><pad><pad><pad><pad><pad><pad><pad><pad><pad><pad><pad><pad><pad><pad><pad><pad><pad><pad><pad><pad><pad><pad><pad><pad><pad><pad><pad><pad><pad><pad><pad><pad><pad><pad><pad><pad><pad><pad><pad><pad><pad><pad><pad><pad><pad><pad><pad><pad><pad><pad><pad><pad><pad><pad><pad><pad><pad><pad><pad><pad><pad><pad><pad><pad><pad><pad><pad><pad><pad><pad><pad><pad><pad><pad><pad><pad><pad><pad><pad><pad><pad><pad><pad><pad><pad><pad><pad><pad><pad><pad><pad><pad><pad><pad><pad><pad><pad><pad><pad><pad><pad><pad><pad><pad><pad><pad><pad><pad><pad><pad><pad><pad><pad><pad><pad><pad><pad><pad><pad><pad><pad><pad><pad><pad><pad><pad><pad><pad><pad><pad><pad><pad><pad><pad><pad><pad><pad><pad><pad><pad><pad><pad><pad><pad><pad><pad><pad><pad><pad><pad><pad><pad><pad><pad><pad><pad>'"
      ]
     },
     "execution_count": 61,
     "metadata": {},
     "output_type": "execute_result"
    }
   ],
   "source": [
    "tokenizer.decode(model_inputs['input_ids'][0])"
   ]
  }
 ],
 "metadata": {
  "interpreter": {
   "hash": "d4d1e4263499bec80672ea0156c357c1ee493ec2b1c70f0acce89fc37c4a6abe"
  },
  "kernelspec": {
   "display_name": "Python 3.8.5 ('base')",
   "language": "python",
   "name": "python3"
  },
  "language_info": {
   "codemirror_mode": {
    "name": "ipython",
    "version": 3
   },
   "file_extension": ".py",
   "mimetype": "text/x-python",
   "name": "python",
   "nbconvert_exporter": "python",
   "pygments_lexer": "ipython3",
   "version": "3.8.5"
  },
  "orig_nbformat": 4
 },
 "nbformat": 4,
 "nbformat_minor": 2
}
