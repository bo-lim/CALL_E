{
  "cells": [
    {
      "cell_type": "code",
      "source": [
        "from google.colab import drive\n",
        "drive.mount('/content/drive')"
      ],
      "metadata": {
        "colab": {
          "base_uri": "https://localhost:8080/"
        },
        "id": "KPYSSdxQwH9J",
        "outputId": "3b0f7497-d986-4bc7-9b75-d89e6151e6c1"
      },
      "id": "KPYSSdxQwH9J",
      "execution_count": 4,
      "outputs": [
        {
          "output_type": "stream",
          "name": "stdout",
          "text": [
            "Drive already mounted at /content/drive; to attempt to forcibly remount, call drive.mount(\"/content/drive\", force_remount=True).\n"
          ]
        }
      ]
    },
    {
      "cell_type": "code",
      "source": [
        "text_input = 'an illustration of enjoying farming game ' #@param {type: \"string\"}\n",
        "\n",
        "num_images_to_generate =  5#@param {type: \"number\"}"
      ],
      "metadata": {
        "id": "-gEIFvghrONM"
      },
      "id": "-gEIFvghrONM",
      "execution_count": 42,
      "outputs": []
    },
    {
      "cell_type": "code",
      "execution_count": 6,
      "metadata": {
        "id": "SL53VpxnPuBD",
        "colab": {
          "base_uri": "https://localhost:8080/"
        },
        "outputId": "4a2d8242-defd-4d23-ae5f-3691ae2a5a0b"
      },
      "outputs": [
        {
          "output_type": "stream",
          "name": "stdout",
          "text": [
            "Looking in indexes: https://pypi.org/simple, https://us-python.pkg.dev/colab-wheels/public/simple/\n",
            "Collecting torch==1.9.1\n",
            "  Using cached torch-1.9.1-cp37-cp37m-manylinux1_x86_64.whl (831.4 MB)\n",
            "Collecting torchtext==0.10.1\n",
            "  Using cached torchtext-0.10.1-cp37-cp37m-manylinux1_x86_64.whl (7.6 MB)\n",
            "Collecting torchvision==0.10.1\n",
            "  Using cached torchvision-0.10.1-cp37-cp37m-manylinux1_x86_64.whl (22.1 MB)\n",
            "Collecting torchaudio==0.10.1\n",
            "  Using cached torchaudio-0.10.1-cp37-cp37m-manylinux1_x86_64.whl (2.9 MB)\n",
            "Requirement already satisfied: typing-extensions in /usr/local/lib/python3.7/dist-packages (from torch==1.9.1) (4.2.0)\n",
            "Requirement already satisfied: tqdm in /usr/local/lib/python3.7/dist-packages (from torchtext==0.10.1) (4.64.0)\n",
            "Requirement already satisfied: numpy in /usr/local/lib/python3.7/dist-packages (from torchtext==0.10.1) (1.21.6)\n",
            "Requirement already satisfied: requests in /usr/local/lib/python3.7/dist-packages (from torchtext==0.10.1) (2.23.0)\n",
            "Requirement already satisfied: pillow>=5.3.0 in /usr/local/lib/python3.7/dist-packages (from torchvision==0.10.1) (7.1.2)\n",
            "INFO: pip is looking at multiple versions of torchvision to determine which version is compatible with other requirements. This could take a while.\n",
            "INFO: pip is looking at multiple versions of torchtext to determine which version is compatible with other requirements. This could take a while.\n",
            "INFO: pip is looking at multiple versions of <Python from Requires-Python> to determine which version is compatible with other requirements. This could take a while.\n",
            "INFO: pip is looking at multiple versions of torch to determine which version is compatible with other requirements. This could take a while.\n",
            "\u001b[31mERROR: Cannot install torch==1.9.1, torchaudio==0.10.1, torchtext==0.10.1 and torchvision==0.10.1 because these package versions have conflicting dependencies.\u001b[0m\n",
            "\n",
            "The conflict is caused by:\n",
            "    The user requested torch==1.9.1\n",
            "    torchtext 0.10.1 depends on torch==1.9.1\n",
            "    torchvision 0.10.1 depends on torch==1.9.1\n",
            "    torchaudio 0.10.1 depends on torch==1.10.1\n",
            "\n",
            "To fix this you could try to:\n",
            "1. loosen the range of package versions you've specified\n",
            "2. remove package versions to allow pip attempt to solve the dependency conflict\n",
            "\n",
            "\u001b[31mERROR: ResolutionImpossible: for help visit https://pip.pypa.io/en/latest/user_guide/#fixing-conflicting-dependencies\u001b[0m\n",
            "/content\n",
            "fatal: destination path 'Lafite' already exists and is not an empty directory.\n",
            "/content/Lafite\n",
            "Looking in indexes: https://pypi.org/simple, https://us-python.pkg.dev/colab-wheels/public/simple/\n",
            "Collecting git+https://github.com/openai/CLIP.git\n",
            "  Cloning https://github.com/openai/CLIP.git to /tmp/pip-req-build-ob3ys53e\n",
            "  Running command git clone -q https://github.com/openai/CLIP.git /tmp/pip-req-build-ob3ys53e\n",
            "Requirement already satisfied: ftfy in /usr/local/lib/python3.7/dist-packages (from clip==1.0) (6.1.1)\n",
            "Requirement already satisfied: regex in /usr/local/lib/python3.7/dist-packages (from clip==1.0) (2019.12.20)\n",
            "Requirement already satisfied: tqdm in /usr/local/lib/python3.7/dist-packages (from clip==1.0) (4.64.0)\n",
            "Requirement already satisfied: torch in /usr/local/lib/python3.7/dist-packages (from clip==1.0) (1.11.0+cu113)\n",
            "Requirement already satisfied: torchvision in /usr/local/lib/python3.7/dist-packages (from clip==1.0) (0.12.0+cu113)\n",
            "Requirement already satisfied: wcwidth>=0.2.5 in /usr/local/lib/python3.7/dist-packages (from ftfy->clip==1.0) (0.2.5)\n",
            "Requirement already satisfied: typing-extensions in /usr/local/lib/python3.7/dist-packages (from torch->clip==1.0) (4.2.0)\n",
            "Requirement already satisfied: requests in /usr/local/lib/python3.7/dist-packages (from torchvision->clip==1.0) (2.23.0)\n",
            "Requirement already satisfied: pillow!=8.3.*,>=5.3.0 in /usr/local/lib/python3.7/dist-packages (from torchvision->clip==1.0) (7.1.2)\n",
            "Requirement already satisfied: numpy in /usr/local/lib/python3.7/dist-packages (from torchvision->clip==1.0) (1.21.6)\n",
            "Requirement already satisfied: chardet<4,>=3.0.2 in /usr/local/lib/python3.7/dist-packages (from requests->torchvision->clip==1.0) (3.0.4)\n",
            "Requirement already satisfied: certifi>=2017.4.17 in /usr/local/lib/python3.7/dist-packages (from requests->torchvision->clip==1.0) (2022.5.18.1)\n",
            "Requirement already satisfied: urllib3!=1.25.0,!=1.25.1,<1.26,>=1.21.1 in /usr/local/lib/python3.7/dist-packages (from requests->torchvision->clip==1.0) (1.24.3)\n",
            "Requirement already satisfied: idna<3,>=2.5 in /usr/local/lib/python3.7/dist-packages (from requests->torchvision->clip==1.0) (2.10)\n",
            "Looking in indexes: https://pypi.org/simple, https://us-python.pkg.dev/colab-wheels/public/simple/\n",
            "Requirement already satisfied: ninja in /usr/local/lib/python3.7/dist-packages (1.10.2.3)\n"
          ]
        }
      ],
      "source": [
        "!pip install torch==1.9.1 torchtext==0.10.1 torchvision==0.10.1 torchaudio==0.10.1\n",
        "%cd /content\n",
        "!git clone https://github.com/drboog/Lafite\n",
        "%cd /content/Lafite\n",
        "!pip install git+https://github.com/openai/CLIP.git\n",
        "!pip install ninja"
      ],
      "id": "SL53VpxnPuBD"
    },
    {
      "cell_type": "code",
      "execution_count": 7,
      "metadata": {
        "id": "ttxH-sBXO_7l",
        "colab": {
          "base_uri": "https://localhost:8080/"
        },
        "outputId": "2968528a-85aa-421f-8611-002de428791c"
      },
      "outputs": [
        {
          "output_type": "stream",
          "name": "stdout",
          "text": [
            "--2022-05-25 06:43:26--  https://public-ipfs-gateway.pollinations.ai/ipfs/Qmdt4rch9AHveSh9JohEHqUGFMdfThsXJknwHjtQUQJQhe/pre-trained-google-cc-best-fid.pkl\n",
            "Resolving public-ipfs-gateway.pollinations.ai (public-ipfs-gateway.pollinations.ai)... 65.108.44.19\n",
            "Connecting to public-ipfs-gateway.pollinations.ai (public-ipfs-gateway.pollinations.ai)|65.108.44.19|:443... connected.\n",
            "HTTP request sent, awaiting response... 502 Bad Gateway\n",
            "2022-05-25 06:43:26 ERROR 502: Bad Gateway.\n",
            "\n"
          ]
        }
      ],
      "source": [
        "!wget -N https://public-ipfs-gateway.pollinations.ai/ipfs/Qmdt4rch9AHveSh9JohEHqUGFMdfThsXJknwHjtQUQJQhe/pre-trained-google-cc-best-fid.pkl"
      ],
      "id": "ttxH-sBXO_7l"
    },
    {
      "cell_type": "code",
      "execution_count": 34,
      "metadata": {
        "id": "6fa9c631"
      },
      "outputs": [],
      "source": [
        "import torch\n",
        "import numpy as np\n",
        "import pickle\n",
        "import os\n",
        "import clip\n",
        "from PIL import Image\n",
        "from pathlib import Path\n",
        "from tqdm import tqdm\n",
        "import dnnlib, legacy\n",
        "import clip\n",
        "import torch.nn.functional as F\n",
        "import torchvision.transforms as T\n",
        "from tqdm import tqdm\n",
        "import scipy"
      ],
      "id": "6fa9c631"
    },
    {
      "cell_type": "code",
      "execution_count": 43,
      "metadata": {
        "id": "b93b1f9c"
      },
      "outputs": [],
      "source": [
        "class Generator:\n",
        "    def __init__(self, device, path):\n",
        "        self.name = 'generator'\n",
        "        self.model = self.load_model(device, path)\n",
        "        self.device = device\n",
        "        self.force_32 = False\n",
        "        \n",
        "    def load_model(self, device, path):\n",
        "        with dnnlib.util.open_url(path) as f:\n",
        "            network= legacy.load_network_pkl(f)\n",
        "            self.G_ema = network['G_ema'].to(device)\n",
        "            self.D = network['D'].to(device)\n",
        "#                 self.G = network['G'].to(device)\n",
        "            return self.G_ema\n",
        "        \n",
        "    def generate(self, z, c, fts, noise_mode='const', return_styles=True):\n",
        "        return self.model(z, c, fts=fts, noise_mode=noise_mode, return_styles=return_styles, force_fp32=self.force_32)\n",
        "    \n",
        "    def generate_from_style(self, style, noise_mode='const'):\n",
        "        ws = torch.randn(1, self.model.num_ws, 512)\n",
        "        return self.model.synthesis(ws, fts=None, styles=style, noise_mode=noise_mode, force_fp32=self.force_32)\n",
        "    \n",
        "    def tensor_to_img(self, tensor):\n",
        "        img = torch.clamp((tensor + 1.) * 127.5, 0., 255.)\n",
        "        img_list = img.permute(0, 2, 3, 1)\n",
        "        img_list = [img for img in img_list]\n",
        "        return Image.fromarray(torch.cat(img_list, dim=-2).detach().cpu().numpy().astype(np.uint8))"
      ],
      "id": "b93b1f9c"
    },
    {
      "cell_type": "code",
      "source": [
        "from torch.nn import functional as F"
      ],
      "metadata": {
        "id": "ZUP0L7I0wkfe"
      },
      "id": "ZUP0L7I0wkfe",
      "execution_count": 44,
      "outputs": []
    },
    {
      "cell_type": "code",
      "execution_count": 45,
      "metadata": {
        "id": "29873681"
      },
      "outputs": [],
      "source": [
        "with torch.no_grad():\n",
        "\n",
        "    device = 'cuda:0' # please use GPU, do not use CPU\n",
        "    path = '/content/drive/MyDrive/pre-trained-google-cc-best-fid.pkl'  # pre-trained model\n",
        "    generator = Generator(device=device, path=path)\n",
        "    clip_model, preprocess_clip  = clip.load(\"ViT-B/32\", device=device)\n",
        "    clip_model = clip_model.eval()\n",
        "    \n",
        "    tokenized_text = clip.tokenize([text_input]*num_images_to_generate).to(device)\n",
        "    txt_fts = clip_model.encode_text(tokenized_text)\n",
        "    txt_fts = txt_fts/txt_fts.norm(dim=-1, keepdim=True)\n",
        "    \n",
        "    z = torch.randn((num_images_to_generate, 512)).to(device)\n",
        "    c = torch.randn((num_images_to_generate, 1)).to(device) # label is actually not used\n",
        "    img, _ = generator.generate(z=z, c=c, fts=txt_fts)\n",
        "    to_show_img = generator.tensor_to_img(img)\n",
        "\n",
        "    to_show_img.save('./generated.jpg')\n"
      ],
      "id": "29873681"
    },
    {
      "cell_type": "code",
      "source": [
        "# text_input = an illustration of enjoying farming game \n",
        "tokenized_text=clip.tokenize([text_input]).to(device)\n",
        "txt_ft = clip_model.encode_text(tokenized_text)\n",
        "# txt_ft = txt_ft/txt_ft.norm(dim=-1, keepdim=True)\n",
        "pross = preprocess_clip(to_show_img).to(device)\n",
        "print(pross.shape)\n",
        "print(img.shape)\n",
        "print(txt_ft.shape)"
      ],
      "metadata": {
        "colab": {
          "base_uri": "https://localhost:8080/"
        },
        "id": "trodOmk22am5",
        "outputId": "581d909a-d5b2-47b1-d0a4-85dd66ec9854"
      },
      "id": "trodOmk22am5",
      "execution_count": 51,
      "outputs": [
        {
          "output_type": "stream",
          "name": "stdout",
          "text": [
            "torch.Size([3, 224, 224])\n",
            "torch.Size([5, 3, 256, 256])\n",
            "torch.Size([1, 512])\n"
          ]
        }
      ]
    },
    {
      "cell_type": "code",
      "source": [
        "# txt_fts = clip_model.encode_text(tokenized_text)\n",
        "scores = F.cosine_similarity(pross, txt_ft[:,:224]).squeeze()\n",
        "\n",
        "rank = torch.argsort(scores, descending=True).cpu().numpy()"
      ],
      "metadata": {
        "id": "-urxF0Id2Gi1"
      },
      "id": "-urxF0Id2Gi1",
      "execution_count": 52,
      "outputs": []
    },
    {
      "cell_type": "code",
      "source": [
        "scores = scores.cpu().detach().numpy()"
      ],
      "metadata": {
        "id": "vjqr6aYV7I3n"
      },
      "id": "vjqr6aYV7I3n",
      "execution_count": 53,
      "outputs": []
    },
    {
      "cell_type": "code",
      "source": [
        "np.max(scores)"
      ],
      "metadata": {
        "colab": {
          "base_uri": "https://localhost:8080/"
        },
        "id": "mDJaMaBu-TQj",
        "outputId": "964019ea-33d4-4b30-98f3-886f19d2d163"
      },
      "id": "mDJaMaBu-TQj",
      "execution_count": 54,
      "outputs": [
        {
          "output_type": "execute_result",
          "data": {
            "text/plain": [
              "0.8198017"
            ]
          },
          "metadata": {},
          "execution_count": 54
        }
      ]
    },
    {
      "cell_type": "code",
      "source": [
        "scores"
      ],
      "metadata": {
        "colab": {
          "base_uri": "https://localhost:8080/"
        },
        "id": "oE1NZg_Vy-An",
        "outputId": "c67f6bf1-f089-4a6a-ef7c-4aa3866c468b"
      },
      "id": "oE1NZg_Vy-An",
      "execution_count": 50,
      "outputs": [
        {
          "output_type": "execute_result",
          "data": {
            "text/plain": [
              "array([[-0.71186733, -0.70087045,  0.7045098 , -0.6944767 ,  0.653255  ,\n",
              "        -0.6423932 , -0.6188922 , -0.54562646, -0.5359875 ,  0.54207516,\n",
              "        -0.5448884 , -0.57506883,  0.5725583 , -0.5433937 ,  0.51922345,\n",
              "        -0.52502626, -0.51932496, -0.548256  ,  0.5529318 ,  0.5859928 ,\n",
              "         0.57914   , -0.59432214,  0.6175961 , -0.6043026 , -0.58361626,\n",
              "        -0.5744364 , -0.54249406,  0.54668283,  0.5376285 , -0.5336431 ,\n",
              "         0.5264375 , -0.506258  , -0.5004402 ,  0.51087606, -0.51507145,\n",
              "        -0.46100664,  0.3192197 ,  0.2945058 ,  0.37873596, -0.3951518 ,\n",
              "        -0.39308903,  0.33032876,  0.33403862,  0.39297098,  0.35307965,\n",
              "         0.35952413,  0.39288002, -0.36048594,  0.3984878 ,  0.42073917,\n",
              "         0.34443527,  0.30555022, -0.38018328, -0.44004524,  0.42667103,\n",
              "        -0.44351783,  0.3979759 , -0.4095387 , -0.37369147,  0.36303625,\n",
              "         0.4438058 , -0.45241374,  0.4946893 ,  0.49347216,  0.54532516,\n",
              "        -0.5940318 , -0.6660218 ,  0.66808397,  0.63780105, -0.66935796,\n",
              "        -0.6345019 ,  0.6106157 , -0.621619  ,  0.6286207 , -0.63061005,\n",
              "         0.6148959 ,  0.5922425 , -0.5279542 , -0.5404874 , -0.5030471 ,\n",
              "         0.50565183,  0.519388  ,  0.5582417 ,  0.5506632 ,  0.49544117,\n",
              "        -0.48808077, -0.48103788, -0.53406465,  0.54881537,  0.5440405 ,\n",
              "        -0.56440717, -0.53862494, -0.5691976 ,  0.5515172 , -0.58492005,\n",
              "         0.5944252 ,  0.57822704,  0.6104718 , -0.6211596 ,  0.6444007 ,\n",
              "         0.6720599 ,  0.6850443 ,  0.6702724 , -0.63313484, -0.6219103 ,\n",
              "        -0.63622135, -0.69133645,  0.6423449 , -0.6172072 , -0.6639049 ,\n",
              "        -0.6604889 , -0.6604162 , -0.67605627,  0.68786323, -0.6545418 ,\n",
              "        -0.63937116, -0.6122638 ,  0.59250784, -0.5977657 , -0.5885854 ,\n",
              "         0.6035646 , -0.59134084, -0.5891776 , -0.6078132 ,  0.6071228 ,\n",
              "         0.5719631 , -0.5302934 , -0.5613528 , -0.5778275 ,  0.5756826 ,\n",
              "         0.5660923 ,  0.5446638 , -0.56208885,  0.5448401 , -0.56880045,\n",
              "         0.5953024 , -0.57874924, -0.57488775, -0.5392197 , -0.5619385 ,\n",
              "         0.61723936, -0.64064944, -0.6526654 , -0.72876674, -0.810521  ,\n",
              "        -0.81456405,  0.8198016 , -0.79693687, -0.77870214, -0.7594734 ,\n",
              "         0.73943365,  0.6990869 , -0.6748028 ,  0.6712756 ,  0.6478194 ,\n",
              "         0.64121723, -0.6581635 , -0.67605174, -0.6857753 , -0.6681948 ,\n",
              "         0.6554268 ,  0.655657  , -0.6758819 , -0.67186207, -0.6579536 ,\n",
              "         0.69891644, -0.66076064,  0.617891  , -0.62043256, -0.6305084 ,\n",
              "        -0.6522706 ,  0.64817077, -0.63896334, -0.64724976,  0.6353952 ,\n",
              "        -0.59834313, -0.59326404,  0.67248386,  0.71046895,  0.7187422 ,\n",
              "        -0.68736297, -0.65293115, -0.6417708 , -0.6636664 , -0.6718607 ,\n",
              "        -0.6590112 , -0.64023966, -0.6507757 , -0.669851  ,  0.66483086,\n",
              "        -0.61025614,  0.5312887 ,  0.5112621 , -0.5097827 , -0.52847993,\n",
              "        -0.57718945, -0.5660112 ,  0.5724277 ,  0.578367  , -0.58461535,\n",
              "         0.55735993, -0.5518162 ,  0.58960503,  0.583889  ,  0.5957011 ,\n",
              "        -0.60790557, -0.61274016, -0.6039616 , -0.6139538 , -0.6488606 ,\n",
              "         0.6581422 ,  0.65905845, -0.5986258 ,  0.5895214 , -0.61518985,\n",
              "        -0.63564277,  0.65171915, -0.6862094 ,  0.6968754 ,  0.67509025,\n",
              "        -0.6903024 , -0.6725402 ,  0.6791492 , -0.73107076],\n",
              "       [-0.76584625, -0.80005527,  0.797172  , -0.78627414,  0.7672224 ,\n",
              "        -0.7614917 , -0.7421763 , -0.6642353 , -0.6374335 ,  0.6337067 ,\n",
              "        -0.6230217 , -0.6278047 ,  0.61393917, -0.577315  ,  0.5365565 ,\n",
              "        -0.52647686, -0.51091623, -0.52587426,  0.517752  ,  0.52398956,\n",
              "         0.50905854, -0.5259851 ,  0.5444526 , -0.53799176, -0.5209097 ,\n",
              "        -0.5246516 , -0.50352746,  0.5128262 ,  0.5086305 , -0.47941586,\n",
              "         0.43388274, -0.3752416 , -0.34071714,  0.33658472, -0.34724748,\n",
              "        -0.30622548,  0.188199  ,  0.19349353,  0.2994359 , -0.32561874,\n",
              "        -0.32366806,  0.24837554,  0.2583015 ,  0.311083  ,  0.2733531 ,\n",
              "         0.26500177,  0.25046262, -0.20341945,  0.25038797,  0.30043936,\n",
              "         0.26377726,  0.25684345, -0.31555328, -0.32735923,  0.30834717,\n",
              "        -0.32943878,  0.29985335, -0.3374302 , -0.32928842,  0.32009402,\n",
              "         0.3909314 , -0.41252968,  0.46581843,  0.4709894 ,  0.51642644,\n",
              "        -0.5622604 , -0.6113466 ,  0.6089105 ,  0.5962601 , -0.6299858 ,\n",
              "        -0.61113346,  0.5935371 , -0.61623025,  0.6261217 , -0.6275607 ,\n",
              "         0.6114735 ,  0.57417184, -0.5126182 , -0.51908374, -0.4872985 ,\n",
              "         0.4861466 ,  0.48359242,  0.5100295 ,  0.5039287 ,  0.46502548,\n",
              "        -0.45179278, -0.4317306 , -0.4814978 ,  0.5109055 ,  0.5252913 ,\n",
              "        -0.5622746 , -0.56655896, -0.61114746,  0.61044544, -0.6346804 ,\n",
              "         0.638568  ,  0.6346943 ,  0.67837536, -0.69961745,  0.7156374 ,\n",
              "         0.7311423 ,  0.7431762 ,  0.7348101 , -0.7034863 , -0.69441855,\n",
              "        -0.710707  , -0.7616042 ,  0.7263916 , -0.71313757, -0.74659634,\n",
              "        -0.7416912 , -0.73941296, -0.75358945,  0.75914794, -0.7309706 ,\n",
              "        -0.7159949 , -0.687025  ,  0.66513485, -0.6609392 , -0.6460368 ,\n",
              "         0.64704907, -0.63494354, -0.6328818 , -0.64326996,  0.6361291 ,\n",
              "         0.6139092 , -0.58611214, -0.6131601 , -0.6268299 ,  0.62731665,\n",
              "         0.6215447 ,  0.60705775, -0.62294024,  0.60775936, -0.62995386,\n",
              "         0.65351814, -0.6314093 , -0.6125762 , -0.57231987, -0.5828624 ,\n",
              "         0.6220075 , -0.6284231 , -0.62349284, -0.6834054 , -0.76931643,\n",
              "        -0.78268874,  0.78762513, -0.76243234, -0.74575424, -0.7322424 ,\n",
              "         0.71341795,  0.6761124 , -0.6531037 ,  0.64714897,  0.6215718 ,\n",
              "         0.6128453 , -0.62807477, -0.6390721 , -0.6374595 , -0.61243993,\n",
              "         0.5953855 ,  0.5912966 , -0.61784005, -0.6180135 , -0.6007485 ,\n",
              "         0.63101566, -0.59093326,  0.5387411 , -0.5336549 , -0.5425089 ,\n",
              "        -0.5431859 ,  0.54436666, -0.54328656, -0.5487539 ,  0.54223555,\n",
              "        -0.51845694, -0.50926685,  0.58236843,  0.6197846 ,  0.6344662 ,\n",
              "        -0.6213055 , -0.5888492 , -0.57041943, -0.5904111 , -0.6051722 ,\n",
              "        -0.5962552 , -0.58973366, -0.61106884, -0.62609166,  0.6159377 ,\n",
              "        -0.5547004 ,  0.46195284,  0.41043955, -0.40190065, -0.4371178 ,\n",
              "        -0.5041997 , -0.51523924,  0.5406057 ,  0.551246  , -0.56830513,\n",
              "         0.5606312 , -0.5674148 ,  0.6103493 ,  0.6124735 ,  0.6167639 ,\n",
              "        -0.617978  , -0.6159389 , -0.607504  , -0.61902577, -0.6470394 ,\n",
              "         0.6518827 ,  0.64792186, -0.5935642 ,  0.58078456, -0.59201556,\n",
              "        -0.5984622 ,  0.6019076 , -0.63163906,  0.65397626,  0.65429574,\n",
              "        -0.68055993, -0.6826808 ,  0.70444626, -0.7290445 ],\n",
              "       [ 0.5540185 ,  0.53367436, -0.5256442 ,  0.52946186, -0.52437675,\n",
              "         0.53363377,  0.5404355 ,  0.5651623 ,  0.56537384, -0.56521845,\n",
              "         0.5852095 ,  0.586841  , -0.58164954,  0.57382816, -0.57355493,\n",
              "         0.5490726 ,  0.56184584,  0.564127  , -0.55524296, -0.5397373 ,\n",
              "        -0.5234527 ,  0.52522016, -0.507056  ,  0.5211344 ,  0.53401047,\n",
              "         0.53317076,  0.5739512 , -0.5754715 , -0.5630752 ,  0.54304713,\n",
              "        -0.570304  ,  0.5758513 ,  0.5668045 , -0.5769685 ,  0.5866164 ,\n",
              "         0.61683863, -0.6634588 , -0.6737195 , -0.65651834,  0.6553355 ,\n",
              "         0.6754617 , -0.68391335, -0.6829014 , -0.67501515, -0.69438994,\n",
              "        -0.70898557, -0.71657395,  0.72679657, -0.7139889 , -0.70748526,\n",
              "        -0.709195  , -0.6963833 ,  0.62360877,  0.57648915, -0.59772265,\n",
              "         0.5924523 , -0.61726654,  0.59208375,  0.56376165, -0.52361083,\n",
              "        -0.47333422,  0.4770158 , -0.44573334, -0.4502878 , -0.4207034 ,\n",
              "         0.39417282,  0.38146105, -0.36767447, -0.3369433 ,  0.29377267,\n",
              "         0.27199763, -0.25662795,  0.27025136, -0.27128178,  0.2591973 ,\n",
              "        -0.2741854 , -0.29601637,  0.32247975,  0.32331493,  0.34023088,\n",
              "        -0.311554  , -0.28956813, -0.25357378, -0.23994656, -0.27710545,\n",
              "         0.27680424,  0.30794406,  0.29570764, -0.29158077, -0.29800412,\n",
              "         0.28275505,  0.31531906,  0.29939467, -0.34302053,  0.32125375,\n",
              "        -0.3144233 , -0.33599287, -0.3043529 ,  0.29821217, -0.29269168,\n",
              "        -0.26104772, -0.24551582, -0.24862804,  0.27459034,  0.25873393,\n",
              "         0.26950356,  0.23472375, -0.23796223,  0.23432851,  0.22400953,\n",
              "         0.253319  ,  0.2476556 ,  0.24045937, -0.21493462,  0.22442383,\n",
              "         0.20368789,  0.2216248 , -0.24449778,  0.21349037,  0.22463204,\n",
              "        -0.21090321,  0.2176869 ,  0.22109772,  0.22699618, -0.24536715,\n",
              "        -0.24640147,  0.2583938 ,  0.22431284,  0.2320687 , -0.2397818 ,\n",
              "        -0.24253805, -0.2469968 ,  0.22271721, -0.25046444,  0.24079575,\n",
              "        -0.23191068,  0.26175386,  0.26383227,  0.26855713,  0.24205567,\n",
              "        -0.2052889 ,  0.18695949,  0.19379807,  0.12954582, -0.0287612 ,\n",
              "        -0.08589904,  0.14204346, -0.12039518, -0.13264751, -0.15678853,\n",
              "         0.15579174,  0.10796036, -0.07802816,  0.07489219,  0.01021533,\n",
              "         0.00991459, -0.0475718 , -0.06427868, -0.0525034 , -0.02643572,\n",
              "         0.01141733,  0.0157655 , -0.07163785, -0.03511624,  0.00946443,\n",
              "         0.00218664, -0.00244178, -0.06903731,  0.12901856,  0.15492602,\n",
              "         0.13341905, -0.12102984,  0.10977955,  0.10063972, -0.14471489,\n",
              "         0.1566035 ,  0.13980961, -0.10998409, -0.06904881, -0.03839509,\n",
              "         0.00209151, -0.0031008 ,  0.01956081,  0.01780413,  0.02567684,\n",
              "         0.03764812,  0.06911333,  0.0799119 ,  0.05839302, -0.07343812,\n",
              "         0.0900776 , -0.11988571, -0.18474114,  0.2036556 ,  0.18147585,\n",
              "         0.15189183,  0.19011426, -0.18763821, -0.21368095,  0.2302559 ,\n",
              "        -0.23580211,  0.2526102 , -0.24667022, -0.27391094, -0.28509676,\n",
              "         0.27676353,  0.2465679 ,  0.21870048,  0.15035012,  0.12501977,\n",
              "        -0.1558275 , -0.14430915,  0.19480221, -0.20172158,  0.21617469,\n",
              "         0.23043178, -0.22805214,  0.20398185, -0.17832023, -0.18335734,\n",
              "         0.13829595,  0.12720166, -0.1303493 ,  0.19639888]],\n",
              "      dtype=float32)"
            ]
          },
          "metadata": {},
          "execution_count": 50
        }
      ]
    }
  ],
  "metadata": {
    "accelerator": "GPU",
    "colab": {
      "name": "LAFITE - generate.ipynb의 사본",
      "provenance": [],
      "collapsed_sections": []
    },
    "kernelspec": {
      "display_name": "Python 3 (ipykernel)",
      "language": "python",
      "name": "python3"
    },
    "language_info": {
      "codemirror_mode": {
        "name": "ipython",
        "version": 3
      },
      "file_extension": ".py",
      "mimetype": "text/x-python",
      "name": "python",
      "nbconvert_exporter": "python",
      "pygments_lexer": "ipython3",
      "version": "3.8.5"
    },
    "pycharm": {
      "stem_cell": {
        "cell_type": "raw",
        "metadata": {
          "collapsed": false
        },
        "source": []
      }
    }
  },
  "nbformat": 4,
  "nbformat_minor": 5
}