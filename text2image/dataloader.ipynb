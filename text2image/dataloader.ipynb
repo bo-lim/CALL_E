{
 "cells": [
  {
   "cell_type": "code",
   "execution_count": 1,
   "id": "5f1f6356-9225-4944-90f1-28b3d967aba7",
   "metadata": {},
   "outputs": [],
   "source": [
    "import os\n",
    "import numpy as np\n",
    "import pandas as pd\n",
    "import matplotlib.pyplot as plt\n",
    "from PIL import Image\n",
    "\n",
    "import torch\n",
    "import torchvision\n",
    "import torch.nn as nn\n",
    "import torch.optim as optim\n",
    "import torch.nn.functional as F\n",
    "from torchvision import transforms, utils\n",
    "import random\n",
    "from torchvision.transforms import Resize, ToTensor, Normalize\n",
    "from torch.utils.data import Dataset, DataLoader, random_split, SubsetRandomSampler, WeightedRandomSampler"
   ]
  },
  {
   "cell_type": "code",
   "execution_count": 2,
   "id": "5687740a-f165-49c1-b27a-773e735c0c02",
   "metadata": {},
   "outputs": [],
   "source": [
    "def seed_everything(seed):\n",
    "    \"\"\"\n",
    "    동일한 조건으로 학습을 할 때, 동일한 결과를 얻기 위해 seed를 고정시킵니다.\n",
    "    \n",
    "    Args:\n",
    "        seed: seed 정수값\n",
    "    \"\"\"\n",
    "    torch.manual_seed(seed) # pytorch의 random seed 고정\n",
    "    torch.cuda.manual_seed(seed) # GPU 에서 사용하는 난수 생성 시드 고정\n",
    "    # torch.cuda.manual_seed_all(seed)  # if use multi-GPU\n",
    "    torch.backends.cudnn.deterministic = True # CuDNN 부분고정\n",
    "    torch.backends.cudnn.benchmark = False # CuDNN 부분고정\n",
    "    np.random.seed(seed) # Numpy 부분\n",
    "    random.seed(seed) # transforms에서 random 라이브러리를 사용하기 때문에 random 라이브러리를 불러서 고정\n",
    "\n",
    "seed_everything(42)"
   ]
  },
  {
   "cell_type": "code",
   "execution_count": null,
   "id": "f0ac3119-265c-4273-94ff-bc03696c58c0",
   "metadata": {},
   "outputs": [],
   "source": [
    "# from zipfile import ZipFile\n",
    "\n",
    "# file_name = \"zipfiles/scenery.zip\"\n",
    "\n",
    "# with ZipFile(file_name, 'r') as zip:\n",
    "#     zip.extractall(\"scenery\") \n",
    "#     print('File is unzipped in vector folder')"
   ]
  },
  {
   "cell_type": "code",
   "execution_count": 3,
   "id": "41847e38-3429-46bc-a5ea-f4b6590e5927",
   "metadata": {},
   "outputs": [],
   "source": [
    "def search(dirname, result):  # 하위목록의 모든 파일을 찾는 함수\n",
    "    try:\n",
    "        filenames = os.listdir(dirname)\n",
    "        for filename in filenames:\n",
    "            full_filename = os.path.join(dirname, filename)\n",
    "            if os.path.isdir(full_filename):\n",
    "                search(full_filename, result)\n",
    "            else:\n",
    "                ext = os.path.splitext(full_filename)[-1]  # 확장자 체크\n",
    "                if ext:\n",
    "                    result.append(full_filename)\n",
    "    except PermissionError:\n",
    "        pass\n",
    "\n",
    "scenery_all_path = []\n",
    "search(\"scenery\", scenery_all_path)\n",
    "vector_all_path = []\n",
    "search(\"vector\", vector_all_path)"
   ]
  },
  {
   "cell_type": "code",
   "execution_count": 4,
   "id": "2275d8e3-4e77-4217-95cd-3e11752b9d46",
   "metadata": {},
   "outputs": [
    {
     "data": {
      "text/plain": [
       "(22125, 14876)"
      ]
     },
     "execution_count": 4,
     "metadata": {},
     "output_type": "execute_result"
    }
   ],
   "source": [
    "len(scenery_all_path), len(vector_all_path)"
   ]
  },
  {
   "cell_type": "code",
   "execution_count": 5,
   "id": "4ed21131-47ff-4676-88e3-1b0aa6053d7b",
   "metadata": {},
   "outputs": [
    {
     "data": {
      "text/plain": [
       "['vector/moped-153275__340.png',\n",
       " 'vector/cake-305217__340.png',\n",
       " 'vector/bird-1296169__480.png',\n",
       " 'vector/lady-2860835__340.png',\n",
       " 'vector/bush-575517__340.png']"
      ]
     },
     "execution_count": 5,
     "metadata": {},
     "output_type": "execute_result"
    }
   ],
   "source": [
    "vector_all_path[:5]"
   ]
  },
  {
   "cell_type": "code",
   "execution_count": 6,
   "id": "1d5e4e21-b84d-4132-a3cc-c1f0ea26394a",
   "metadata": {},
   "outputs": [],
   "source": [
    "def labeling(dirname, result, prefix):  # 라벨링하는 함수\n",
    "    try:\n",
    "        filenames = os.listdir(dirname)\n",
    "        for filename in filenames:\n",
    "            keyword = prefix + filename.split(\".\")[0].split(\"__\")[0].split(\"-\")[0]\n",
    "            result.append(keyword)\n",
    "    except PermissionError:\n",
    "        pass"
   ]
  },
  {
   "cell_type": "code",
   "execution_count": 7,
   "id": "972fc278-eb48-40ed-a657-a12d7b11a566",
   "metadata": {},
   "outputs": [],
   "source": [
    "dirname, vector_label = \"vector\", []\n",
    "labeling(dirname, vector_label, \"a vector image of \")\n",
    "dirname, scenery_label = \"scenery\", []\n",
    "labeling(dirname, scenery_label, \"a scenery of \")"
   ]
  },
  {
   "cell_type": "code",
   "execution_count": 8,
   "id": "83aa34e9-f543-48e5-926c-84f7f22a5d21",
   "metadata": {},
   "outputs": [
    {
     "data": {
      "text/plain": [
       "(14876, 22125)"
      ]
     },
     "execution_count": 8,
     "metadata": {},
     "output_type": "execute_result"
    }
   ],
   "source": [
    "len(vector_label), len(scenery_label)"
   ]
  },
  {
   "cell_type": "code",
   "execution_count": 9,
   "id": "35565dc4-0147-49d4-8747-ff7d5fbf1999",
   "metadata": {},
   "outputs": [
    {
     "data": {
      "text/html": [
       "<div>\n",
       "<style scoped>\n",
       "    .dataframe tbody tr th:only-of-type {\n",
       "        vertical-align: middle;\n",
       "    }\n",
       "\n",
       "    .dataframe tbody tr th {\n",
       "        vertical-align: top;\n",
       "    }\n",
       "\n",
       "    .dataframe thead th {\n",
       "        text-align: right;\n",
       "    }\n",
       "</style>\n",
       "<table border=\"1\" class=\"dataframe\">\n",
       "  <thead>\n",
       "    <tr style=\"text-align: right;\">\n",
       "      <th></th>\n",
       "      <th>path</th>\n",
       "      <th>label</th>\n",
       "    </tr>\n",
       "  </thead>\n",
       "  <tbody>\n",
       "    <tr>\n",
       "      <th>0</th>\n",
       "      <td>scenery/tea-garden-2823303__340.png</td>\n",
       "      <td>a scenery of tea</td>\n",
       "    </tr>\n",
       "    <tr>\n",
       "      <th>1</th>\n",
       "      <td>scenery/grain-field-6571349__340.png</td>\n",
       "      <td>a scenery of grain</td>\n",
       "    </tr>\n",
       "    <tr>\n",
       "      <th>2</th>\n",
       "      <td>scenery/santa-barbara-1584103__340.png</td>\n",
       "      <td>a scenery of santa</td>\n",
       "    </tr>\n",
       "    <tr>\n",
       "      <th>3</th>\n",
       "      <td>scenery/field-6772703__340.png</td>\n",
       "      <td>a scenery of field</td>\n",
       "    </tr>\n",
       "    <tr>\n",
       "      <th>4</th>\n",
       "      <td>scenery/cow-4960242__340.png</td>\n",
       "      <td>a scenery of cow</td>\n",
       "    </tr>\n",
       "    <tr>\n",
       "      <th>...</th>\n",
       "      <td>...</td>\n",
       "      <td>...</td>\n",
       "    </tr>\n",
       "    <tr>\n",
       "      <th>22120</th>\n",
       "      <td>scenery/tajikistan-4582152__340.png</td>\n",
       "      <td>a scenery of tajikistan</td>\n",
       "    </tr>\n",
       "    <tr>\n",
       "      <th>22121</th>\n",
       "      <td>scenery/river-6748978__340.png</td>\n",
       "      <td>a scenery of river</td>\n",
       "    </tr>\n",
       "    <tr>\n",
       "      <th>22122</th>\n",
       "      <td>scenery/mountains-5729187__340.png</td>\n",
       "      <td>a scenery of mountains</td>\n",
       "    </tr>\n",
       "    <tr>\n",
       "      <th>22123</th>\n",
       "      <td>scenery/spoon-bills-5791480__340.png</td>\n",
       "      <td>a scenery of spoon</td>\n",
       "    </tr>\n",
       "    <tr>\n",
       "      <th>22124</th>\n",
       "      <td>scenery/lake-4479111__340.png</td>\n",
       "      <td>a scenery of lake</td>\n",
       "    </tr>\n",
       "  </tbody>\n",
       "</table>\n",
       "<p>22125 rows × 2 columns</p>\n",
       "</div>"
      ],
      "text/plain": [
       "                                         path                    label\n",
       "0         scenery/tea-garden-2823303__340.png         a scenery of tea\n",
       "1        scenery/grain-field-6571349__340.png       a scenery of grain\n",
       "2      scenery/santa-barbara-1584103__340.png       a scenery of santa\n",
       "3              scenery/field-6772703__340.png       a scenery of field\n",
       "4                scenery/cow-4960242__340.png         a scenery of cow\n",
       "...                                       ...                      ...\n",
       "22120     scenery/tajikistan-4582152__340.png  a scenery of tajikistan\n",
       "22121          scenery/river-6748978__340.png       a scenery of river\n",
       "22122      scenery/mountains-5729187__340.png   a scenery of mountains\n",
       "22123    scenery/spoon-bills-5791480__340.png       a scenery of spoon\n",
       "22124           scenery/lake-4479111__340.png        a scenery of lake\n",
       "\n",
       "[22125 rows x 2 columns]"
      ]
     },
     "execution_count": 9,
     "metadata": {},
     "output_type": "execute_result"
    }
   ],
   "source": [
    "scenery_df = pd.DataFrame(scenery_all_path, columns = ['path'])\n",
    "\n",
    "scenery_df['label'] = scenery_label\n",
    "scenery_df"
   ]
  },
  {
   "cell_type": "code",
   "execution_count": 10,
   "id": "0a31023e-d088-483a-bbe0-4f279e63571f",
   "metadata": {},
   "outputs": [
    {
     "data": {
      "text/html": [
       "<div>\n",
       "<style scoped>\n",
       "    .dataframe tbody tr th:only-of-type {\n",
       "        vertical-align: middle;\n",
       "    }\n",
       "\n",
       "    .dataframe tbody tr th {\n",
       "        vertical-align: top;\n",
       "    }\n",
       "\n",
       "    .dataframe thead th {\n",
       "        text-align: right;\n",
       "    }\n",
       "</style>\n",
       "<table border=\"1\" class=\"dataframe\">\n",
       "  <thead>\n",
       "    <tr style=\"text-align: right;\">\n",
       "      <th></th>\n",
       "      <th>path</th>\n",
       "      <th>label</th>\n",
       "    </tr>\n",
       "  </thead>\n",
       "  <tbody>\n",
       "    <tr>\n",
       "      <th>0</th>\n",
       "      <td>vector/moped-153275__340.png</td>\n",
       "      <td>a vector image of moped</td>\n",
       "    </tr>\n",
       "    <tr>\n",
       "      <th>1</th>\n",
       "      <td>vector/cake-305217__340.png</td>\n",
       "      <td>a vector image of cake</td>\n",
       "    </tr>\n",
       "    <tr>\n",
       "      <th>2</th>\n",
       "      <td>vector/bird-1296169__480.png</td>\n",
       "      <td>a vector image of bird</td>\n",
       "    </tr>\n",
       "    <tr>\n",
       "      <th>3</th>\n",
       "      <td>vector/lady-2860835__340.png</td>\n",
       "      <td>a vector image of lady</td>\n",
       "    </tr>\n",
       "    <tr>\n",
       "      <th>4</th>\n",
       "      <td>vector/bush-575517__340.png</td>\n",
       "      <td>a vector image of bush</td>\n",
       "    </tr>\n",
       "    <tr>\n",
       "      <th>...</th>\n",
       "      <td>...</td>\n",
       "      <td>...</td>\n",
       "    </tr>\n",
       "    <tr>\n",
       "      <th>14871</th>\n",
       "      <td>vector/sos-2753818__340.png</td>\n",
       "      <td>a vector image of sos</td>\n",
       "    </tr>\n",
       "    <tr>\n",
       "      <th>14872</th>\n",
       "      <td>vector/silhouette-1229849__340.png</td>\n",
       "      <td>a vector image of silhouette</td>\n",
       "    </tr>\n",
       "    <tr>\n",
       "      <th>14873</th>\n",
       "      <td>vector/dove-7100089__340.png</td>\n",
       "      <td>a vector image of dove</td>\n",
       "    </tr>\n",
       "    <tr>\n",
       "      <th>14874</th>\n",
       "      <td>vector/couple-2029712__340.png</td>\n",
       "      <td>a vector image of couple</td>\n",
       "    </tr>\n",
       "    <tr>\n",
       "      <th>14875</th>\n",
       "      <td>vector/frame-5700098__340.png</td>\n",
       "      <td>a vector image of frame</td>\n",
       "    </tr>\n",
       "  </tbody>\n",
       "</table>\n",
       "<p>14876 rows × 2 columns</p>\n",
       "</div>"
      ],
      "text/plain": [
       "                                     path                         label\n",
       "0            vector/moped-153275__340.png       a vector image of moped\n",
       "1             vector/cake-305217__340.png        a vector image of cake\n",
       "2            vector/bird-1296169__480.png        a vector image of bird\n",
       "3            vector/lady-2860835__340.png        a vector image of lady\n",
       "4             vector/bush-575517__340.png        a vector image of bush\n",
       "...                                   ...                           ...\n",
       "14871         vector/sos-2753818__340.png         a vector image of sos\n",
       "14872  vector/silhouette-1229849__340.png  a vector image of silhouette\n",
       "14873        vector/dove-7100089__340.png        a vector image of dove\n",
       "14874      vector/couple-2029712__340.png      a vector image of couple\n",
       "14875       vector/frame-5700098__340.png       a vector image of frame\n",
       "\n",
       "[14876 rows x 2 columns]"
      ]
     },
     "execution_count": 10,
     "metadata": {},
     "output_type": "execute_result"
    }
   ],
   "source": [
    "vector_df = pd.DataFrame(vector_all_path, columns = ['path'])\n",
    "\n",
    "vector_df['label'] = vector_label\n",
    "vector_df"
   ]
  },
  {
   "cell_type": "code",
   "execution_count": 11,
   "id": "72bc01d2-364f-42a1-b2c7-179630f5c434",
   "metadata": {},
   "outputs": [
    {
     "data": {
      "text/html": [
       "<div>\n",
       "<style scoped>\n",
       "    .dataframe tbody tr th:only-of-type {\n",
       "        vertical-align: middle;\n",
       "    }\n",
       "\n",
       "    .dataframe tbody tr th {\n",
       "        vertical-align: top;\n",
       "    }\n",
       "\n",
       "    .dataframe thead th {\n",
       "        text-align: right;\n",
       "    }\n",
       "</style>\n",
       "<table border=\"1\" class=\"dataframe\">\n",
       "  <thead>\n",
       "    <tr style=\"text-align: right;\">\n",
       "      <th></th>\n",
       "      <th>path</th>\n",
       "      <th>label</th>\n",
       "    </tr>\n",
       "  </thead>\n",
       "  <tbody>\n",
       "    <tr>\n",
       "      <th>0</th>\n",
       "      <td>vector/moped-153275__340.png</td>\n",
       "      <td>a vector image of moped</td>\n",
       "    </tr>\n",
       "    <tr>\n",
       "      <th>1</th>\n",
       "      <td>vector/cake-305217__340.png</td>\n",
       "      <td>a vector image of cake</td>\n",
       "    </tr>\n",
       "    <tr>\n",
       "      <th>2</th>\n",
       "      <td>vector/bird-1296169__480.png</td>\n",
       "      <td>a vector image of bird</td>\n",
       "    </tr>\n",
       "    <tr>\n",
       "      <th>3</th>\n",
       "      <td>vector/lady-2860835__340.png</td>\n",
       "      <td>a vector image of lady</td>\n",
       "    </tr>\n",
       "    <tr>\n",
       "      <th>4</th>\n",
       "      <td>vector/bush-575517__340.png</td>\n",
       "      <td>a vector image of bush</td>\n",
       "    </tr>\n",
       "    <tr>\n",
       "      <th>...</th>\n",
       "      <td>...</td>\n",
       "      <td>...</td>\n",
       "    </tr>\n",
       "    <tr>\n",
       "      <th>36996</th>\n",
       "      <td>scenery/tajikistan-4582152__340.png</td>\n",
       "      <td>a scenery of tajikistan</td>\n",
       "    </tr>\n",
       "    <tr>\n",
       "      <th>36997</th>\n",
       "      <td>scenery/river-6748978__340.png</td>\n",
       "      <td>a scenery of river</td>\n",
       "    </tr>\n",
       "    <tr>\n",
       "      <th>36998</th>\n",
       "      <td>scenery/mountains-5729187__340.png</td>\n",
       "      <td>a scenery of mountains</td>\n",
       "    </tr>\n",
       "    <tr>\n",
       "      <th>36999</th>\n",
       "      <td>scenery/spoon-bills-5791480__340.png</td>\n",
       "      <td>a scenery of spoon</td>\n",
       "    </tr>\n",
       "    <tr>\n",
       "      <th>37000</th>\n",
       "      <td>scenery/lake-4479111__340.png</td>\n",
       "      <td>a scenery of lake</td>\n",
       "    </tr>\n",
       "  </tbody>\n",
       "</table>\n",
       "<p>37001 rows × 2 columns</p>\n",
       "</div>"
      ],
      "text/plain": [
       "                                       path                    label\n",
       "0              vector/moped-153275__340.png  a vector image of moped\n",
       "1               vector/cake-305217__340.png   a vector image of cake\n",
       "2              vector/bird-1296169__480.png   a vector image of bird\n",
       "3              vector/lady-2860835__340.png   a vector image of lady\n",
       "4               vector/bush-575517__340.png   a vector image of bush\n",
       "...                                     ...                      ...\n",
       "36996   scenery/tajikistan-4582152__340.png  a scenery of tajikistan\n",
       "36997        scenery/river-6748978__340.png       a scenery of river\n",
       "36998    scenery/mountains-5729187__340.png   a scenery of mountains\n",
       "36999  scenery/spoon-bills-5791480__340.png       a scenery of spoon\n",
       "37000         scenery/lake-4479111__340.png        a scenery of lake\n",
       "\n",
       "[37001 rows x 2 columns]"
      ]
     },
     "execution_count": 11,
     "metadata": {},
     "output_type": "execute_result"
    }
   ],
   "source": [
    "df = pd.concat([vector_df, scenery_df], ignore_index=True)\n",
    "df"
   ]
  },
  {
   "cell_type": "code",
   "execution_count": 12,
   "id": "ec4b529f-dbc6-48fc-852c-9ca888dae088",
   "metadata": {},
   "outputs": [],
   "source": [
    "normalize = transforms.Normalize(mean=[0.485, 0.456, 0.406],\n",
    "                                 std=[0.229, 0.224, 0.225])\n",
    "\n",
    "data_transforms = {\n",
    "    'train':\n",
    "    transforms.Compose([\n",
    "        transforms.Resize((224,224)),\n",
    "        transforms.ToTensor(),\n",
    "        normalize\n",
    "    ]),\n",
    "    'val':\n",
    "    transforms.Compose([\n",
    "        transforms.Resize((224,224)),\n",
    "        transforms.ToTensor(),\n",
    "        normalize\n",
    "    ]),\n",
    "}"
   ]
  },
  {
   "cell_type": "code",
   "execution_count": 13,
   "id": "d87d3aeb-0916-4737-bb31-cfb0f47ab485",
   "metadata": {},
   "outputs": [],
   "source": [
    "class CustomDataset(Dataset):\n",
    "    def __init__(self, img_paths_label, transform):\n",
    "        self.X = img_paths_label['path']\n",
    "        self.y = img_paths_label['label']\n",
    "        self.transform = transform\n",
    "    \n",
    "    def __getitem__(self, index):\n",
    "        # image = Image.open(self.X.iloc[index])\n",
    "        image = Image.open(self.X.iloc[index]).convert('RGB')\n",
    "        label = self.y.iloc[index]\n",
    "        \n",
    "        if self.transform:\n",
    "            image = self.transform(image)\n",
    "        # return image, torch.tensor(label)\n",
    "        return image, label\n",
    "    \n",
    "    def __len__(self):\n",
    "        return len(self.X)"
   ]
  },
  {
   "cell_type": "code",
   "execution_count": 15,
   "id": "6d13fb92-0501-49c4-b6c9-19a7b4ebd12f",
   "metadata": {},
   "outputs": [],
   "source": [
    "from sklearn.model_selection import train_test_split\n",
    "\n",
    "train, valid = train_test_split(df, test_size=0.2,\n",
    "                               shuffle=True,\n",
    "                               random_state=42)"
   ]
  },
  {
   "cell_type": "code",
   "execution_count": 16,
   "id": "a0bf0d96-5cb5-4462-9f5e-34243867654d",
   "metadata": {},
   "outputs": [],
   "source": [
    "BATCH_SIZE = 32\n",
    "\n",
    "train_dataset = CustomDataset(train, data_transforms['train'])\n",
    "train_dataloader = DataLoader(train_dataset,\n",
    "                             batch_size = BATCH_SIZE,\n",
    "                             shuffle=True)\n",
    "\n",
    "valid_dataset = CustomDataset(valid, data_transforms['val'])\n",
    "valid_dataloader = DataLoader(valid_dataset,\n",
    "                             batch_size=BATCH_SIZE,\n",
    "                             shuffle=True)"
   ]
  },
  {
   "cell_type": "code",
   "execution_count": 18,
   "id": "0c018a50-dbbb-413f-945e-1b3116637fcb",
   "metadata": {},
   "outputs": [
    {
     "data": {
      "text/plain": [
       "tensor([[[[-1.1418, -1.2959, -1.3302,  ..., -0.8678, -0.9705, -0.8164],\n",
       "          [-0.9877, -1.1760, -1.2959,  ..., -0.9705, -1.1247, -1.0219],\n",
       "          [-1.1247, -1.2103, -1.2445,  ..., -1.1075, -1.1932, -1.1075],\n",
       "          ...,\n",
       "          [-0.7650, -0.7650, -0.6965,  ...,  0.0398,  0.0398, -0.0458],\n",
       "          [-0.6623, -0.6452, -0.6109,  ..., -0.0629, -0.0116,  0.0056],\n",
       "          [-0.6109, -0.6109, -0.5938,  ..., -0.0458,  0.0227, -0.0287]],\n",
       "\n",
       "         [[-0.7752, -0.9328, -0.9503,  ..., -0.5651, -0.6527, -0.5126],\n",
       "          [-0.6352, -0.8102, -0.9153,  ..., -0.6527, -0.7927, -0.6877],\n",
       "          [-0.7402, -0.8277, -0.8452,  ..., -0.7577, -0.8452, -0.7752],\n",
       "          ...,\n",
       "          [-0.9153, -0.9153, -0.8803,  ..., -0.4776, -0.4776, -0.5476],\n",
       "          [-0.8627, -0.8452, -0.8277,  ..., -0.5826, -0.5301, -0.5126],\n",
       "          [-0.8102, -0.8102, -0.8102,  ..., -0.5651, -0.4951, -0.5476]],\n",
       "\n",
       "         [[-0.0790, -0.2184, -0.2184,  ..., -0.5321, -0.6541, -0.5147],\n",
       "          [ 0.0256, -0.1487, -0.2358,  ..., -0.5844, -0.7238, -0.6541],\n",
       "          [-0.1835, -0.2358, -0.2184,  ..., -0.6541, -0.7413, -0.6541],\n",
       "          ...,\n",
       "          [-1.1073, -1.1073, -1.0724,  ..., -0.7064, -0.6890, -0.7761],\n",
       "          [-1.0550, -1.0376, -1.0201,  ..., -0.8110, -0.7587, -0.7413],\n",
       "          [-1.0027, -1.0027, -1.0027,  ..., -0.7761, -0.7238, -0.7761]]],\n",
       "\n",
       "\n",
       "        [[[-2.1179, -2.1179, -2.1179,  ..., -2.1179, -2.1179, -2.1179],\n",
       "          [-2.1179, -2.1179, -2.1179,  ..., -2.1179, -2.1179, -2.1179],\n",
       "          [-2.1179, -2.1179, -2.1179,  ..., -2.1179, -2.1179, -2.1179],\n",
       "          ...,\n",
       "          [-2.1179, -2.1179, -2.1179,  ..., -2.1179, -2.1179, -2.1179],\n",
       "          [-2.1179, -2.1179, -2.1179,  ..., -2.1179, -2.1179, -2.1179],\n",
       "          [-2.1179, -2.1179, -2.1179,  ..., -2.1179, -2.1179, -2.1179]],\n",
       "\n",
       "         [[-2.0357, -2.0357, -2.0357,  ..., -2.0357, -2.0357, -2.0357],\n",
       "          [-2.0357, -2.0357, -2.0357,  ..., -2.0357, -2.0357, -2.0357],\n",
       "          [-2.0357, -2.0357, -2.0357,  ..., -2.0357, -2.0357, -2.0357],\n",
       "          ...,\n",
       "          [-2.0357, -2.0357, -2.0357,  ..., -2.0357, -2.0357, -2.0357],\n",
       "          [-2.0357, -2.0357, -2.0357,  ..., -2.0357, -2.0357, -2.0357],\n",
       "          [-2.0357, -2.0357, -2.0357,  ..., -2.0357, -2.0357, -2.0357]],\n",
       "\n",
       "         [[-1.8044, -1.8044, -1.8044,  ..., -1.8044, -1.8044, -1.8044],\n",
       "          [-1.8044, -1.8044, -1.8044,  ..., -1.8044, -1.8044, -1.8044],\n",
       "          [-1.8044, -1.8044, -1.8044,  ..., -1.8044, -1.8044, -1.8044],\n",
       "          ...,\n",
       "          [-1.8044, -1.8044, -1.8044,  ..., -1.8044, -1.8044, -1.8044],\n",
       "          [-1.8044, -1.8044, -1.8044,  ..., -1.8044, -1.8044, -1.8044],\n",
       "          [-1.8044, -1.8044, -1.8044,  ..., -1.8044, -1.8044, -1.8044]]],\n",
       "\n",
       "\n",
       "        [[[-1.0733, -1.0390, -1.0390,  ..., -1.3302, -1.3302, -1.3473],\n",
       "          [-1.0733, -1.0390, -1.0390,  ..., -1.3302, -1.3302, -1.3473],\n",
       "          [-1.0562, -1.0390, -1.0219,  ..., -1.3130, -1.3302, -1.3302],\n",
       "          ...,\n",
       "          [-1.8953, -1.9980, -2.0323,  ..., -1.9809, -1.9980, -1.9638],\n",
       "          [-1.8610, -1.8953, -1.9809,  ..., -1.9809, -1.9638, -1.9467],\n",
       "          [-2.0152, -1.8782, -1.8782,  ..., -2.0152, -2.0152, -1.9980]],\n",
       "\n",
       "         [[-0.4601, -0.4251, -0.4251,  ..., -0.4776, -0.4776, -0.4951],\n",
       "          [-0.4601, -0.4251, -0.4251,  ..., -0.4776, -0.4776, -0.4951],\n",
       "          [-0.4426, -0.4251, -0.4076,  ..., -0.4601, -0.4776, -0.4776],\n",
       "          ...,\n",
       "          [-1.7381, -1.8081, -1.8431,  ..., -1.8606, -1.8782, -1.8431],\n",
       "          [-1.6856, -1.6681, -1.7381,  ..., -1.8606, -1.8431, -1.8256],\n",
       "          [-1.8256, -1.6506, -1.6155,  ..., -1.8957, -1.8957, -1.8782]],\n",
       "\n",
       "         [[ 0.2871,  0.3219,  0.3219,  ...,  0.3045,  0.3045,  0.2871],\n",
       "          [ 0.2871,  0.3219,  0.3219,  ...,  0.3045,  0.3045,  0.2871],\n",
       "          [ 0.3045,  0.3219,  0.3393,  ...,  0.3219,  0.3045,  0.3045],\n",
       "          ...,\n",
       "          [-1.4210, -1.4733, -1.4907,  ..., -1.6476, -1.6650, -1.6302],\n",
       "          [-1.3861, -1.3339, -1.3687,  ..., -1.6476, -1.6302, -1.6127],\n",
       "          [-1.5256, -1.3164, -1.2467,  ..., -1.6824, -1.6824, -1.6650]]],\n",
       "\n",
       "\n",
       "        ...,\n",
       "\n",
       "\n",
       "        [[[-2.0665, -2.0665, -2.0837,  ..., -2.0837, -2.0837, -2.0837],\n",
       "          [-2.0837, -2.0665, -2.0665,  ..., -2.0837, -2.0837, -2.0837],\n",
       "          [-2.0837, -2.0837, -2.0494,  ..., -2.0837, -2.0837, -2.0837],\n",
       "          ...,\n",
       "          [-2.0152, -2.0152, -2.0152,  ..., -1.9809, -1.9809, -1.9809],\n",
       "          [-2.0152, -2.0152, -2.0152,  ..., -1.9809, -1.9980, -1.9980],\n",
       "          [-2.0323, -2.0494, -2.0494,  ..., -1.9809, -1.9980, -1.9980]],\n",
       "\n",
       "         [[-0.7402, -0.7402, -0.7402,  ..., -0.8627, -0.8627, -0.8803],\n",
       "          [-0.7577, -0.7402, -0.7052,  ..., -0.8627, -0.8627, -0.8803],\n",
       "          [-0.7577, -0.7227, -0.6877,  ..., -0.8627, -0.8627, -0.8803],\n",
       "          ...,\n",
       "          [-1.8606, -1.8606, -1.8431,  ..., -1.8256, -1.8256, -1.8256],\n",
       "          [-1.8606, -1.8606, -1.8431,  ..., -1.8081, -1.8256, -1.8256],\n",
       "          [-1.8782, -1.8957, -1.8782,  ..., -1.8081, -1.8256, -1.8256]],\n",
       "\n",
       "         [[ 0.8448,  0.8448,  0.8448,  ...,  0.5485,  0.5485,  0.5485],\n",
       "          [ 0.8274,  0.8448,  0.8622,  ...,  0.5485,  0.5485,  0.5485],\n",
       "          [ 0.8274,  0.8448,  0.8797,  ...,  0.5485,  0.5485,  0.5485],\n",
       "          ...,\n",
       "          [-1.5953, -1.6302, -1.6650,  ..., -1.6824, -1.6999, -1.6999],\n",
       "          [-1.5779, -1.6302, -1.6824,  ..., -1.6824, -1.6999, -1.6999],\n",
       "          [-1.6127, -1.6650, -1.7173,  ..., -1.6824, -1.6999, -1.6999]]],\n",
       "\n",
       "\n",
       "        [[[ 1.4954,  1.4783,  1.4612,  ...,  1.5810,  1.5639,  1.5810],\n",
       "          [ 1.4783,  1.4783,  1.4783,  ...,  1.5639,  1.5639,  1.5468],\n",
       "          [ 1.4612,  1.4783,  1.4783,  ...,  1.5639,  1.5639,  1.5468],\n",
       "          ...,\n",
       "          [-0.3712, -0.3712, -0.4397,  ..., -0.2342, -0.1657, -0.1314],\n",
       "          [-0.5596, -0.4397, -0.3883,  ..., -0.0972, -0.0972, -0.1143],\n",
       "          [-0.5424, -0.5253, -0.5767,  ..., -0.1143, -0.1828, -0.1486]],\n",
       "\n",
       "         [[ 1.6758,  1.6583,  1.6583,  ...,  1.7633,  1.7458,  1.7633],\n",
       "          [ 1.6758,  1.6758,  1.6758,  ...,  1.7458,  1.7458,  1.7283],\n",
       "          [ 1.6583,  1.6758,  1.6758,  ...,  1.7458,  1.7458,  1.7283],\n",
       "          ...,\n",
       "          [-0.0924, -0.0924, -0.1625,  ...,  0.1176,  0.1877,  0.2052],\n",
       "          [-0.3025, -0.1800, -0.1275,  ...,  0.2227,  0.2227,  0.2052],\n",
       "          [-0.2850, -0.2675, -0.3200,  ...,  0.2052,  0.1352,  0.1702]],\n",
       "\n",
       "         [[ 1.9080,  1.8905,  1.8905,  ...,  1.8905,  1.8731,  1.8905],\n",
       "          [ 1.8731,  1.8731,  1.8731,  ...,  1.8731,  1.8731,  1.8557],\n",
       "          [ 1.8557,  1.8731,  1.8731,  ...,  1.8731,  1.8731,  1.8557],\n",
       "          ...,\n",
       "          [ 0.1651,  0.1825,  0.0953,  ...,  0.3742,  0.4439,  0.4788],\n",
       "          [-0.0267,  0.0779,  0.1302,  ...,  0.4788,  0.4788,  0.4788],\n",
       "          [-0.0092,  0.0082, -0.0615,  ...,  0.4614,  0.3916,  0.4439]]],\n",
       "\n",
       "\n",
       "        [[[ 1.2557,  1.2557,  1.2728,  ...,  0.1426,  0.1254,  0.1254],\n",
       "          [ 1.1015,  1.1187,  1.1529,  ...,  0.1083,  0.1254,  0.1254],\n",
       "          [ 0.9817,  1.0159,  1.0673,  ...,  0.1254,  0.1254,  0.1254],\n",
       "          ...,\n",
       "          [-1.6213, -1.6213, -1.6384,  ..., -1.5870, -1.5357, -1.5185],\n",
       "          [-1.6384, -1.6213, -1.6213,  ..., -1.5528, -1.5014, -1.5185],\n",
       "          [-1.6384, -1.6213, -1.6213,  ..., -1.5357, -1.4843, -1.5014]],\n",
       "\n",
       "         [[ 1.6583,  1.6408,  1.6232,  ...,  1.2556,  1.2381,  1.1856],\n",
       "          [ 1.5007,  1.5007,  1.5182,  ...,  1.2381,  1.2381,  1.2031],\n",
       "          [ 1.3957,  1.4132,  1.4482,  ...,  1.2556,  1.2381,  1.2206],\n",
       "          ...,\n",
       "          [-1.4230, -1.4755, -1.4930,  ..., -1.3704, -1.3179, -1.3004],\n",
       "          [-1.4930, -1.4755, -1.4755,  ..., -1.3529, -1.2829, -1.3004],\n",
       "          [-1.4930, -1.4755, -1.4755,  ..., -1.3354, -1.2654, -1.2829]],\n",
       "\n",
       "         [[ 1.9254,  1.9080,  1.9080,  ...,  1.9428,  1.9428,  1.9428],\n",
       "          [ 1.8034,  1.8034,  1.8383,  ...,  1.9254,  1.9254,  1.9428],\n",
       "          [ 1.6988,  1.7337,  1.7860,  ...,  1.9254,  1.9254,  1.9254],\n",
       "          ...,\n",
       "          [-1.2293, -1.3164, -1.3861,  ..., -1.2641, -1.2119, -1.1944],\n",
       "          [-1.3861, -1.3687, -1.3687,  ..., -1.2467, -1.1770, -1.1944],\n",
       "          [-1.3861, -1.3687, -1.3687,  ..., -1.2293, -1.1596, -1.1770]]]])"
      ]
     },
     "execution_count": 18,
     "metadata": {},
     "output_type": "execute_result"
    }
   ],
   "source": [
    "next(iter(train_dataloader))[0]"
   ]
  },
  {
   "cell_type": "code",
   "execution_count": 19,
   "id": "071fe3ad-9410-4eed-9c44-101f30b7c771",
   "metadata": {},
   "outputs": [
    {
     "data": {
      "text/plain": [
       "torch.Size([32, 3, 224, 224])"
      ]
     },
     "execution_count": 19,
     "metadata": {},
     "output_type": "execute_result"
    }
   ],
   "source": [
    "next(iter(train_dataloader))[0].shape"
   ]
  },
  {
   "cell_type": "markdown",
   "id": "e3ff2ea7-9428-4f60-87c3-aa7472b12a5c",
   "metadata": {},
   "source": [
    "* 간혹 `unidentifiedimageerror: cannot identify image file` 에러 발생"
   ]
  },
  {
   "cell_type": "code",
   "execution_count": 20,
   "id": "3732b1ea-ddbb-490f-b966-70eba1321d92",
   "metadata": {},
   "outputs": [],
   "source": [
    "import importlib\n",
    "\n",
    "def get_obj_from_str(string, reload=False):\n",
    "    module, cls = string.rsplit(\".\", 1)\n",
    "    if reload:\n",
    "        module_imp = importlib.import_module(module)\n",
    "        importlib.reload(module_imp)\n",
    "    return getattr(importlib.import_module(module, package=None), cls)\n",
    "\n",
    "def instantiate_from_config(config):\n",
    "    if not \"target\" in config:\n",
    "        if config == '__is_first_stage__':\n",
    "            return None\n",
    "        elif config == \"__is_unconditional__\":\n",
    "            return None\n",
    "        raise KeyError(\"Expected key `target` to instantiate.\")\n",
    "    return get_obj_from_str(config[\"target\"])(**config.get(\"params\", dict()))\n",
    "\n",
    "def load_model_from_config(config, ckpt):\n",
    "    print(f\"Loading model from {ckpt}\")\n",
    "    pl_sd = torch.load(ckpt)#, map_location=\"cpu\")\n",
    "    sd = pl_sd[\"state_dict\"]\n",
    "    model = instantiate_from_config(config.model)\n",
    "    m, u = model.load_state_dict(sd, strict=False)\n",
    "    model.cuda()\n",
    "    model.eval()\n",
    "    return model"
   ]
  },
  {
   "cell_type": "code",
   "execution_count": 21,
   "id": "4125e7b3-b3d3-4337-89b9-511895b7306d",
   "metadata": {},
   "outputs": [],
   "source": [
    "from omegaconf import OmegaConf\n",
    "\n",
    "def get_model():\n",
    "    config = OmegaConf.load(\"../configs/latent-diffusion/txt2img-1p4B-eval.yaml\")  # TODO: Optionally download from same location as ckpt and chnage this logic\n",
    "    model = load_model_from_config(config, \"../models/ldm/text2img-large/model.ckpt\")  # TODO: check path\n",
    "    return model"
   ]
  },
  {
   "cell_type": "code",
   "execution_count": null,
   "id": "8fa99566-2a69-44ac-bacf-2541024fe373",
   "metadata": {},
   "outputs": [],
   "source": [
    "# !pip install pytorch_lightning"
   ]
  },
  {
   "cell_type": "code",
   "execution_count": 22,
   "id": "611f906e-7826-41d2-9177-70d988b51801",
   "metadata": {},
   "outputs": [
    {
     "data": {
      "text/plain": [
       "['/opt/ml/latent-diffusion/scripts',\n",
       " '/opt/conda/envs/ldm/lib/python38.zip',\n",
       " '/opt/conda/envs/ldm/lib/python3.8',\n",
       " '/opt/conda/envs/ldm/lib/python3.8/lib-dynload',\n",
       " '',\n",
       " '/opt/conda/envs/ldm/lib/python3.8/site-packages',\n",
       " '/opt/ml/latent-diffusion/src/taming-transformers',\n",
       " '/opt/ml/latent-diffusion',\n",
       " '/opt/ml/latent-diffusion/src/clip']"
      ]
     },
     "execution_count": 22,
     "metadata": {},
     "output_type": "execute_result"
    }
   ],
   "source": [
    "import sys\n",
    "sys.path"
   ]
  },
  {
   "cell_type": "code",
   "execution_count": null,
   "id": "8b14a048-1fc3-4064-87ad-e3dc542812aa",
   "metadata": {},
   "outputs": [],
   "source": [
    "# sys.path.append('/opt/ml/latent-diffusion')"
   ]
  },
  {
   "cell_type": "code",
   "execution_count": null,
   "id": "c43ae7e1-b356-4d9d-87da-8ae8babac495",
   "metadata": {},
   "outputs": [
    {
     "data": {
      "text/plain": [
       "['/opt/ml/latent-diffusion/scripts',\n",
       " '/opt/conda/lib/python38.zip',\n",
       " '/opt/conda/lib/python3.8',\n",
       " '/opt/conda/lib/python3.8/lib-dynload',\n",
       " '',\n",
       " '/opt/conda/lib/python3.8/site-packages',\n",
       " '/opt/conda/lib/python3.8/site-packages/IPython/extensions',\n",
       " '/opt/ml/.ipython',\n",
       " '/opt/ml/latent-diffusion']"
      ]
     },
     "execution_count": 8,
     "metadata": {},
     "output_type": "execute_result"
    }
   ],
   "source": [
    "# sys.path"
   ]
  },
  {
   "cell_type": "code",
   "execution_count": 23,
   "id": "19d5a064-a02d-4996-9840-9802332a87ef",
   "metadata": {},
   "outputs": [
    {
     "name": "stdout",
     "output_type": "stream",
     "text": [
      "Loading model from ../models/ldm/text2img-large/model.ckpt\n",
      "LatentDiffusion: Running in eps-prediction mode\n",
      "DiffusionWrapper has 872.30 M params.\n",
      "making attention of type 'vanilla' with 512 in_channels\n",
      "Working with z of shape (1, 4, 32, 32) = 4096 dimensions.\n",
      "making attention of type 'vanilla' with 512 in_channels\n"
     ]
    }
   ],
   "source": [
    "model = get_model()"
   ]
  },
  {
   "cell_type": "code",
   "execution_count": null,
   "id": "2d33f0d7-2f36-4526-bb31-5e9b9c8f33cc",
   "metadata": {},
   "outputs": [],
   "source": []
  }
 ],
 "metadata": {
  "interpreter": {
   "hash": "afaf7b9974a9993a24921efe4bafd795ec4a11fdf3793e227c3c50c68c1d8d32"
  },
  "kernelspec": {
   "display_name": "Python 3 (ipykernel)",
   "language": "python",
   "name": "python3"
  },
  "language_info": {
   "codemirror_mode": {
    "name": "ipython",
    "version": 3
   },
   "file_extension": ".py",
   "mimetype": "text/x-python",
   "name": "python",
   "nbconvert_exporter": "python",
   "pygments_lexer": "ipython3",
   "version": "3.8.5"
  }
 },
 "nbformat": 4,
 "nbformat_minor": 5
}
