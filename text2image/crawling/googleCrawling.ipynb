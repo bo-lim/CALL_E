{
 "cells": [
  {
   "cell_type": "code",
   "execution_count": null,
   "id": "fe8b59a1-ffed-4b70-85e8-156ff5f8b674",
   "metadata": {},
   "outputs": [],
   "source": [
    "!pip3 install --upgrade pip\n",
    "!pip3 install selenium\n",
    "!pip3 install webdriver-manager"
   ]
  },
  {
   "cell_type": "code",
   "execution_count": 67,
   "id": "94435026-108a-4a06-a9b0-d2f91fd45258",
   "metadata": {},
   "outputs": [],
   "source": [
    "import selenium\n",
    "from selenium import webdriver\n",
    "from selenium.webdriver.common.by import By\n",
    "\n",
    "\n",
    "from urllib.request import urlretrieve\n",
    "from time import sleep\n",
    "\n",
    "from selenium.webdriver.chrome.options import Options\n",
    "from webdriver_manager.chrome import ChromeDriverManager\n",
    "\n",
    "import os\n",
    "folder_name = './img_data'\n",
    "if not os.path.isdir(folder_name):\n",
    "    os.mkdir(folder_name)"
   ]
  },
  {
   "cell_type": "code",
   "execution_count": 193,
   "id": "1ecb3e23",
   "metadata": {},
   "outputs": [],
   "source": [
    "from tqdm import tqdm"
   ]
  },
  {
   "cell_type": "code",
   "execution_count": 2,
   "id": "2fa29860",
   "metadata": {},
   "outputs": [
    {
     "name": "stderr",
     "output_type": "stream",
     "text": [
      "[nltk_data] Downloading package punkt to /Users/ant671/nltk_data...\n",
      "[nltk_data]   Package punkt is already up-to-date!\n",
      "[nltk_data] Downloading package averaged_perceptron_tagger to\n",
      "[nltk_data]     /Users/ant671/nltk_data...\n",
      "[nltk_data]   Package averaged_perceptron_tagger is already up-to-\n",
      "[nltk_data]       date!\n",
      "[nltk_data] Downloading package omw-1.4 to /Users/ant671/nltk_data...\n",
      "[nltk_data]   Package omw-1.4 is already up-to-date!\n",
      "[nltk_data] Downloading package stopwords to\n",
      "[nltk_data]     /Users/ant671/nltk_data...\n",
      "[nltk_data]   Package stopwords is already up-to-date!\n",
      "[nltk_data] Downloading package wordnet to /Users/ant671/nltk_data...\n",
      "[nltk_data]   Package wordnet is already up-to-date!\n"
     ]
    }
   ],
   "source": [
    "import urllib.request\n",
    "import json\n",
    "\n",
    "import nltk\n",
    "nltk.download('punkt')\n",
    "nltk.download('averaged_perceptron_tagger')\n",
    "nltk.download('omw-1.4')\n",
    "nltk.download('stopwords')\n",
    "nltk.download('wordnet')\n",
    "from nltk.tag import pos_tag\n",
    "from nltk.tokenize import word_tokenize\n",
    "from nltk.stem import WordNetLemmatizer\n",
    "from nltk.corpus import stopwords"
   ]
  },
  {
   "cell_type": "markdown",
   "id": "c8628f32",
   "metadata": {},
   "source": [
    "## 번역"
   ]
  },
  {
   "cell_type": "code",
   "execution_count": 159,
   "id": "be8fd76e",
   "metadata": {},
   "outputs": [],
   "source": [
    "def mt(sentence, client_id, client_secret):\n",
    "    koText = urllib.parse.quote(sentence)\n",
    "    data = \"source=ko&target=en&text=\" + koText\n",
    "    url = \"https://openapi.naver.com/v1/papago/n2mt\"\n",
    "    request = urllib.request.Request(url)\n",
    "    request.add_header(\"X-Naver-Client-Id\",client_id)\n",
    "    request.add_header(\"X-Naver-Client-Secret\",client_secret)\n",
    "    response = urllib.request.urlopen(request, data=data.encode(\"utf-8\"))\n",
    "    rescode = response.getcode()\n",
    "    if(rescode==200):\n",
    "        response_body = response.read()\n",
    "        json_result = json.loads(response_body.decode('utf-8'))\n",
    "        enText = json_result[\"message\"][\"result\"][\"translatedText\"]\n",
    "        return enText\n",
    "    else:\n",
    "        print(\"Error Code:\" + rescode)"
   ]
  },
  {
   "cell_type": "markdown",
   "id": "5196852f",
   "metadata": {},
   "source": [
    "## api"
   ]
  },
  {
   "cell_type": "code",
   "execution_count": 170,
   "id": "3bfed509",
   "metadata": {},
   "outputs": [],
   "source": [
    "client_name = 'client'\n",
    "with open(f\"./{client_name}.json\", \"r\") as file:\n",
    "    client = json.load(file)\n",
    "client_id, client_secret = client[\"client_id\"], client[\"client_secret\"]"
   ]
  },
  {
   "cell_type": "markdown",
   "id": "eb9c0cc7",
   "metadata": {},
   "source": [
    "## 번역  실행"
   ]
  },
  {
   "cell_type": "code",
   "execution_count": 171,
   "id": "7031698a",
   "metadata": {},
   "outputs": [],
   "source": [
    "txt_list = []\n",
    "with open('./golden_summary.txt','r') as f:\n",
    "    lines = f.readlines()\n",
    "    for line in lines:\n",
    "        new_line = line\n",
    "        txt_list.append(new_line)\n"
   ]
  },
  {
   "cell_type": "code",
   "execution_count": null,
   "id": "b45c7280",
   "metadata": {},
   "outputs": [],
   "source": [
    "start=0\n",
    "en_list = []\n",
    "for line in txt_list[start:]:\n",
    "    new_line = mt(line.strip(), client_id, client_secret)\n",
    "    en_list.append(new_line)"
   ]
  },
  {
   "cell_type": "code",
   "execution_count": 173,
   "id": "1447d8e0",
   "metadata": {},
   "outputs": [
    {
     "name": "stdout",
     "output_type": "stream",
     "text": [
      "240\n",
      "35006\n"
     ]
    }
   ],
   "source": [
    "print(len(en_list))\n",
    "print(len(txt_list))"
   ]
  },
  {
   "cell_type": "markdown",
   "id": "d3fb0d21",
   "metadata": {},
   "source": [
    "- 1차: 0-243\n",
    "- 2차: 243-373\n",
    "- 3차: 373-614\n",
    "- 4차: 614-848\n",
    "- 5차: 848-1088"
   ]
  },
  {
   "cell_type": "markdown",
   "id": "bd2b2b35",
   "metadata": {},
   "source": [
    "## 번역 파일에 기록"
   ]
  },
  {
   "cell_type": "code",
   "execution_count": 197,
   "id": "0a2e312e",
   "metadata": {},
   "outputs": [],
   "source": [
    "file_name = 'en_golden_summary28001_29000.txt'"
   ]
  },
  {
   "cell_type": "code",
   "execution_count": 174,
   "id": "50e51ff2",
   "metadata": {},
   "outputs": [],
   "source": [
    "with open('./'+file_name,'w') as f:\n",
    "    for line in en_list:\n",
    "        f.write(line+'\\n')"
   ]
  },
  {
   "cell_type": "markdown",
   "id": "9bddea6f",
   "metadata": {},
   "source": [
    "## 번역 파일에서 가져오기"
   ]
  },
  {
   "cell_type": "code",
   "execution_count": 1,
   "id": "bf833f3b",
   "metadata": {},
   "outputs": [],
   "source": [
    "file_name = 'en_golden_21001_22059.txt'"
   ]
  },
  {
   "cell_type": "code",
   "execution_count": 3,
   "id": "9e19bac2",
   "metadata": {},
   "outputs": [],
   "source": [
    "en_txt = []"
   ]
  },
  {
   "cell_type": "code",
   "execution_count": 4,
   "id": "444df42c",
   "metadata": {},
   "outputs": [],
   "source": [
    "with open('./'+file_name,'r') as f:\n",
    "    lines = f.readlines()\n",
    "    for line in lines:\n",
    "        en_txt.append(line.strip())"
   ]
  },
  {
   "cell_type": "code",
   "execution_count": 5,
   "id": "356da441",
   "metadata": {},
   "outputs": [],
   "source": [
    "lemmatizer = WordNetLemmatizer()\n",
    "stop_words = nltk.corpus.stopwords.words('english')\n",
    "stop_words.append(\"'m\")\n",
    "stop_words.append(\"'s\")"
   ]
  },
  {
   "cell_type": "code",
   "execution_count": 6,
   "id": "569d9975-1be1-438d-94be-29bf1888ac39",
   "metadata": {},
   "outputs": [
    {
     "ename": "NameError",
     "evalue": "name 'webdriver' is not defined",
     "output_type": "error",
     "traceback": [
      "\u001b[0;31m---------------------------------------------------------------------------\u001b[0m",
      "\u001b[0;31mNameError\u001b[0m                                 Traceback (most recent call last)",
      "\u001b[1;32m/Users/ant671/Downloads/crawling/googleCrawling.ipynb Cell 22'\u001b[0m in \u001b[0;36m<module>\u001b[0;34m\u001b[0m\n\u001b[0;32m----> <a href='vscode-notebook-cell:/Users/ant671/Downloads/crawling/googleCrawling.ipynb#ch0000021?line=0'>1</a>\u001b[0m options \u001b[39m=\u001b[39m webdriver\u001b[39m.\u001b[39mChromeOptions()\n\u001b[1;32m      <a href='vscode-notebook-cell:/Users/ant671/Downloads/crawling/googleCrawling.ipynb#ch0000021?line=1'>2</a>\u001b[0m options\u001b[39m.\u001b[39madd_argument(\u001b[39m\"\u001b[39m\u001b[39muser-agent=Mozilla/5.0 (Macintosh; Intel Mac OS X 10_15_7) AppleWebKit/537.36 (KHTML, like Gecko) Chrome/102.0.5005.61 Safari/537.36\u001b[39m\u001b[39m\"\u001b[39m)\n\u001b[1;32m      <a href='vscode-notebook-cell:/Users/ant671/Downloads/crawling/googleCrawling.ipynb#ch0000021?line=2'>3</a>\u001b[0m driver \u001b[39m=\u001b[39m webdriver\u001b[39m.\u001b[39mChrome(ChromeDriverManager()\u001b[39m.\u001b[39minstall(), options\u001b[39m=\u001b[39moptions)\n",
      "\u001b[0;31mNameError\u001b[0m: name 'webdriver' is not defined"
     ]
    }
   ],
   "source": [
    "options = webdriver.ChromeOptions()\n",
    "options.add_argument(\"user-agent=Mozilla/5.0 (Macintosh; Intel Mac OS X 10_15_7) AppleWebKit/537.36 (KHTML, like Gecko) Chrome/102.0.5005.61 Safari/537.36\")\n",
    "driver = webdriver.Chrome(ChromeDriverManager().install(), options=options)"
   ]
  },
  {
   "cell_type": "code",
   "execution_count": 7,
   "id": "fa39c8f9-7782-48d7-9e80-5774e56a5b70",
   "metadata": {},
   "outputs": [],
   "source": [
    "base_URL = 'https://www.google.com/search?q='"
   ]
  },
  {
   "cell_type": "code",
   "execution_count": 11,
   "id": "f288aa97",
   "metadata": {},
   "outputs": [],
   "source": [
    "proc_sen_list = []\n",
    "raw_sen_list = []\n",
    "for txt in en_txt:\n",
    "    tagged = pos_tag(word_tokenize(txt))\n",
    "    proc_sen = []\n",
    "    for t in tagged:\n",
    "        if t[1].startswith('N') or t[1].startswith('V') or t[1].startswith('J'):\n",
    "            lemma = lemmatizer.lemmatize(t[0])\n",
    "            if not lemma in stop_words:\n",
    "                proc_sen.append(lemma)\n",
    "    if proc_sen:\n",
    "        proc_sen_list.append(proc_sen)\n",
    "        # proc_sen_list.append('+'.join(set(proc_sen)))\n",
    "        raw_sen_list.append(txt)"
   ]
  },
  {
   "cell_type": "code",
   "execution_count": 12,
   "id": "326e5b19",
   "metadata": {},
   "outputs": [
    {
     "name": "stdout",
     "output_type": "stream",
     "text": [
      "['When I go to the meeting, I try to take my child and give my husband free time.', \"It's the day I decided to do a modeling pack, and my sister said not to worry because she puts it on well.\", \"We're talking about a song by Mariah Carey that feels like winter.\", \"Originally, he always watches amazing Saturday (Amazing Saturday), and he is watching Ravi's song because it came out.\", \"Coffee is popular, so it's a game with a lot of cash.\"]\n"
     ]
    },
    {
     "data": {
      "text/plain": [
       "[['go', 'meeting', 'try', 'take', 'child', 'give', 'husband', 'free', 'time'],\n",
       " ['day', 'decided', 'modeling', 'pack', 'sister', 'said', 'worry', 'put'],\n",
       " [\"'re\", 'talking', 'song', 'Mariah', 'Carey', 'feel', 'winter'],\n",
       " ['watch',\n",
       "  'amazing',\n",
       "  'Saturday',\n",
       "  'Amazing',\n",
       "  'Saturday',\n",
       "  'watching',\n",
       "  'Ravi',\n",
       "  'song',\n",
       "  'came'],\n",
       " ['Coffee', 'popular', 'game', 'lot', 'cash']]"
      ]
     },
     "execution_count": 12,
     "metadata": {},
     "output_type": "execute_result"
    }
   ],
   "source": [
    "print(en_txt[:5])\n",
    "proc_sen_list[:5]"
   ]
  },
  {
   "cell_type": "code",
   "execution_count": 226,
   "id": "629dd4e2",
   "metadata": {},
   "outputs": [
    {
     "name": "stderr",
     "output_type": "stream",
     "text": [
      "  5%|▍         | 48/1059 [00:57<21:15,  1.26s/it]"
     ]
    },
    {
     "name": "stdout",
     "output_type": "stream",
     "text": [
      "47\n"
     ]
    },
    {
     "name": "stderr",
     "output_type": "stream",
     "text": [
      "  6%|▌         | 61/1059 [01:14<26:38,  1.60s/it]"
     ]
    },
    {
     "name": "stdout",
     "output_type": "stream",
     "text": [
      "60\n"
     ]
    },
    {
     "name": "stderr",
     "output_type": "stream",
     "text": [
      " 80%|████████  | 849/1059 [17:07<04:03,  1.16s/it] "
     ]
    },
    {
     "name": "stdout",
     "output_type": "stream",
     "text": [
      "848\n"
     ]
    },
    {
     "name": "stderr",
     "output_type": "stream",
     "text": [
      "100%|██████████| 1059/1059 [21:18<00:00,  1.21s/it]\n"
     ]
    }
   ],
   "source": [
    "fail_idx = []\n",
    "for idx in tqdm(range(len(proc_sen_list))):\n",
    "    search_sen = proc_sen_list[idx]\n",
    "    file_name = raw_sen_list[idx]\n",
    "    driver.get(url=base_URL+search_sen+'&tbm=isch')\n",
    "    result = driver.find_elements(By.XPATH,'//*[@id=\"islrg\"]/div[1]/div[1]/a[1]/div[1]/img')\n",
    "    try:\n",
    "        link = result[0].get_attribute('src')\n",
    "        urlretrieve(link,f'img_data/{file_name}.png')\n",
    "        driver.implicitly_wait(1)\n",
    "    except:\n",
    "        driver.implicitly_wait(30)\n",
    "        print(idx)\n",
    "        fail_idx.append(idx)\n"
   ]
  },
  {
   "cell_type": "code",
   "execution_count": 227,
   "id": "087354b5",
   "metadata": {},
   "outputs": [
    {
     "name": "stdout",
     "output_type": "stream",
     "text": [
      "1059\n",
      "[47, 60, 848]\n"
     ]
    }
   ],
   "source": [
    "print(len(proc_sen_list))\n",
    "print(fail_idx)"
   ]
  },
  {
   "cell_type": "code",
   "execution_count": 229,
   "id": "4ece4b04",
   "metadata": {},
   "outputs": [
    {
     "name": "stdout",
     "output_type": "stream",
     "text": [
      "47\n",
      "848\n"
     ]
    }
   ],
   "source": [
    "for idx in fail_idx:\n",
    "    search_sen = proc_sen_list[idx]\n",
    "    file_name = raw_sen_list[idx]\n",
    "    driver.get(url=base_URL+search_sen+'&tbm=isch')\n",
    "    result = driver.find_elements(By.XPATH,'//*[@id=\"islrg\"]/div[1]/div[1]/a[1]/div[1]/img')\n",
    "    try:\n",
    "        link = result[0].get_attribute('src')\n",
    "        urlretrieve(link,f'img_data/{file_name}.png')\n",
    "        driver.implicitly_wait(1)\n",
    "    except:\n",
    "        driver.implicitly_wait(30)\n",
    "        print(idx)"
   ]
  },
  {
   "cell_type": "code",
   "execution_count": null,
   "id": "c00e2da2",
   "metadata": {},
   "outputs": [],
   "source": []
  }
 ],
 "metadata": {
  "interpreter": {
   "hash": "b0fa6594d8f4cbf19f97940f81e996739fb7646882a419484c72d19e05852a7e"
  },
  "kernelspec": {
   "display_name": "Python 3.9.10 64-bit",
   "language": "python",
   "name": "python3"
  },
  "language_info": {
   "codemirror_mode": {
    "name": "ipython",
    "version": 3
   },
   "file_extension": ".py",
   "mimetype": "text/x-python",
   "name": "python",
   "nbconvert_exporter": "python",
   "pygments_lexer": "ipython3",
   "version": "3.9.10"
  }
 },
 "nbformat": 4,
 "nbformat_minor": 5
}
