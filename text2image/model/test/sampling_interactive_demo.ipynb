{
 "cells": [
  {
   "cell_type": "code",
   "execution_count": 1,
   "id": "b647010a-5a3a-4127-8d98-5bd63b6fc5f4",
   "metadata": {},
   "outputs": [],
   "source": [
    "import torch\n",
    "torch.cuda.empty_cache()\n",
    "!rm -rf ~/.local/share/Trash/files/*"
   ]
  },
  {
   "cell_type": "code",
   "execution_count": 46,
   "id": "4c081938-b79d-4c34-8ae5-379bab570aa0",
   "metadata": {},
   "outputs": [
    {
     "name": "stdout",
     "output_type": "stream",
     "text": [
      "../exp2_ep4/exp2_ep4/29052022_082436/tokenizer successfully restored..\n",
      "100%|█████████████████████████████████████████| 256/256 [00:09<00:00, 26.47it/s]\n",
      "[2 1 0] (3, 256, 256, 3)\n"
     ]
    }
   ],
   "source": [
    "!python sampling_ex.py -n 3 --prompt \"An illustration that pack luggage Seoul Dong Kim Hae Pascucci Cafe.\""
   ]
  },
  {
   "cell_type": "code",
   "execution_count": null,
   "id": "fca400d7-1023-462f-8878-e8349072c6b8",
   "metadata": {},
   "outputs": [],
   "source": []
  }
 ],
 "metadata": {
  "kernelspec": {
   "display_name": "Python 3 (ipykernel)",
   "language": "python",
   "name": "python3"
  },
  "language_info": {
   "codemirror_mode": {
    "name": "ipython",
    "version": 3
   },
   "file_extension": ".py",
   "mimetype": "text/x-python",
   "name": "python",
   "nbconvert_exporter": "python",
   "pygments_lexer": "ipython3",
   "version": "3.8.5"
  }
 },
 "nbformat": 4,
 "nbformat_minor": 5
}
