{
 "cells": [
  {
   "cell_type": "markdown",
   "metadata": {},
   "source": [
    "# 한국어 golden summary 추출"
   ]
  },
  {
   "cell_type": "code",
   "execution_count": null,
   "metadata": {},
   "outputs": [],
   "source": [
    "with open(\"summaries.txt\", \"r\") as f:\n",
    "    lines = f.readlines()\n",
    "    with open(\"kogolden.txt\", \"w\") as ans:\n",
    "        for line in lines:\n",
    "            if line.startswith(\"GOLD\"):\n",
    "                ans.writelines(line[6:])"
   ]
  },
  {
   "cell_type": "markdown",
   "metadata": {},
   "source": [
    "# 라이브러리 불러오기"
   ]
  },
  {
   "cell_type": "code",
   "execution_count": null,
   "metadata": {},
   "outputs": [],
   "source": [
    "import urllib.request\n",
    "import json"
   ]
  },
  {
   "cell_type": "markdown",
   "metadata": {},
   "source": [
    "# papago api client 설정\n",
    "\n",
    "> 발급 받은 api client id&secret을 json으로 저장"
   ]
  },
  {
   "cell_type": "code",
   "execution_count": null,
   "metadata": {},
   "outputs": [],
   "source": [
    "with open(\"./client.json\", \"r\") as file:\n",
    "    client = json.load(file)"
   ]
  },
  {
   "cell_type": "code",
   "execution_count": null,
   "metadata": {},
   "outputs": [],
   "source": [
    "client_id = client[\"client_id\"]\n",
    "client_secret = client[\"client_secret\"]"
   ]
  },
  {
   "cell_type": "markdown",
   "metadata": {},
   "source": [
    "# papago NMT api 함수 정의"
   ]
  },
  {
   "cell_type": "code",
   "execution_count": null,
   "metadata": {},
   "outputs": [],
   "source": [
    "def mt(sentence):\n",
    "    koText = urllib.parse.quote(sentence)\n",
    "    data = \"source=ko&target=en&text=\" + koText\n",
    "    url = \"https://openapi.naver.com/v1/papago/n2mt\"\n",
    "    request = urllib.request.Request(url)\n",
    "    request.add_header(\"X-Naver-Client-Id\",client_id)\n",
    "    request.add_header(\"X-Naver-Client-Secret\",client_secret)\n",
    "    response = urllib.request.urlopen(request, data=data.encode(\"utf-8\"))\n",
    "    rescode = response.getcode()\n",
    "    if(rescode==200):\n",
    "        response_body = response.read()\n",
    "        json_result = json.loads(response_body.decode('utf-8'))\n",
    "        enText = json_result[\"message\"][\"result\"][\"translatedText\"]\n",
    "        return enText\n",
    "    else:\n",
    "        print(\"Error Code:\" + rescode)"
   ]
  },
  {
   "cell_type": "markdown",
   "metadata": {},
   "source": [
    "# ko -> en translation"
   ]
  },
  {
   "cell_type": "code",
   "execution_count": null,
   "metadata": {},
   "outputs": [],
   "source": [
    "cnt = 0\n",
    "\n",
    "with open(\"kogolden.txt\", \"r\") as ko:\n",
    "    lines = ko.readlines()\n",
    "\n",
    "    with open(\"engolden.txt\", \"a\") as en:\n",
    "        with open(\"engolden_preprocess.txt\", \"a\") as pre:\n",
    "            complete = en.readlines()\n",
    "            start = len(complete)\n",
    "\n",
    "            for line in lines[start:]:\n",
    "                enText = mt(line)\n",
    "                en.write(enText+\"\\n\")\n",
    "                pre.write(\"A painting with the vibe that \" + enText+\"\\n\")\n",
    "                cnt += 1\n",
    "\n",
    "print(cnt, \"sentences translated in English and preprocessed successfully!\")"
   ]
  },
  {
   "cell_type": "code",
   "execution_count": null,
   "metadata": {},
   "outputs": [],
   "source": []
  }
 ],
 "metadata": {
  "interpreter": {
   "hash": "f38a6c91ce32564a4dac2f77dd9940243fcd3ebab146cb4a7c4e8638f4b30ddd"
  },
  "kernelspec": {
   "display_name": "Python 3.8.6 64-bit",
   "language": "python",
   "name": "python3"
  },
  "language_info": {
   "name": "python",
   "version": "3.8.6"
  },
  "orig_nbformat": 4
 },
 "nbformat": 4,
 "nbformat_minor": 2
}
